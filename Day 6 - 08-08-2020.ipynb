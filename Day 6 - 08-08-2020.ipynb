{
 "cells": [
  {
   "cell_type": "markdown",
   "metadata": {},
   "source": [
    "# Python Sets\n",
    "- uses curly braces\n",
    "- unordered\n",
    "- unindexed\n",
    "- no duplicates\n",
    " - ex: s1 = {'Hello',1,2,'man',3}\n",
    "        list of elements separated by commas"
   ]
  },
  {
   "cell_type": "code",
   "execution_count": 4,
   "metadata": {},
   "outputs": [
    {
     "name": "stdout",
     "output_type": "stream",
     "text": [
      "<class 'set'>\n",
      "{1, 2, 'man', 3, 'b', 'a', 'c', 'Hello'}\n",
      "<class 'dict'>\n"
     ]
    }
   ],
   "source": [
    "s1 = {'Hello','a','b','c',1,2,'man',3,1,2,3,'a','b','c'}\n",
    "print(type(s1))\n",
    "print(s1)\n",
    "\n",
    "ds1 = {}\n",
    "print(type(ds1))"
   ]
  },
  {
   "cell_type": "code",
   "execution_count": 7,
   "metadata": {},
   "outputs": [
    {
     "name": "stdout",
     "output_type": "stream",
     "text": [
      "1\n",
      "2\n",
      "man\n",
      "3\n",
      "b\n",
      "a\n",
      "c\n",
      "Hello\n"
     ]
    }
   ],
   "source": [
    "# access data\n",
    "for i in s1:\n",
    "    print(i)"
   ]
  },
  {
   "cell_type": "code",
   "execution_count": 8,
   "metadata": {},
   "outputs": [
    {
     "name": "stdout",
     "output_type": "stream",
     "text": [
      "True\n"
     ]
    }
   ],
   "source": [
    "print('Hello' in s1)"
   ]
  },
  {
   "cell_type": "code",
   "execution_count": 9,
   "metadata": {},
   "outputs": [
    {
     "name": "stdout",
     "output_type": "stream",
     "text": [
      "True\n"
     ]
    }
   ],
   "source": [
    "print(2 in s1)"
   ]
  },
  {
   "cell_type": "code",
   "execution_count": 10,
   "metadata": {},
   "outputs": [
    {
     "name": "stdout",
     "output_type": "stream",
     "text": [
      "['__and__', '__class__', '__contains__', '__delattr__', '__dir__', '__doc__', '__eq__', '__format__', '__ge__', '__getattribute__', '__gt__', '__hash__', '__iand__', '__init__', '__init_subclass__', '__ior__', '__isub__', '__iter__', '__ixor__', '__le__', '__len__', '__lt__', '__ne__', '__new__', '__or__', '__rand__', '__reduce__', '__reduce_ex__', '__repr__', '__ror__', '__rsub__', '__rxor__', '__setattr__', '__sizeof__', '__str__', '__sub__', '__subclasshook__', '__xor__', 'add', 'clear', 'copy', 'difference', 'difference_update', 'discard', 'intersection', 'intersection_update', 'isdisjoint', 'issubset', 'issuperset', 'pop', 'remove', 'symmetric_difference', 'symmetric_difference_update', 'union', 'update'] "
     ]
    }
   ],
   "source": [
    "print(dir(set), end=' ')"
   ]
  },
  {
   "cell_type": "code",
   "execution_count": null,
   "metadata": {},
   "outputs": [],
   "source": [
    "# once a set is created you can not change items but you can add items"
   ]
  },
  {
   "cell_type": "code",
   "execution_count": 11,
   "metadata": {},
   "outputs": [
    {
     "name": "stdout",
     "output_type": "stream",
     "text": [
      "{1, 2, 'man', 3, 'b', 'a', 'c', 'Mohan', 'Hello'}\n"
     ]
    }
   ],
   "source": [
    "s1.add('Mohan')\n",
    "print(s1)"
   ]
  },
  {
   "cell_type": "code",
   "execution_count": 13,
   "metadata": {},
   "outputs": [
    {
     "name": "stdout",
     "output_type": "stream",
     "text": [
      "{1, 2, 'man', 3, 'b', 'a', 'c', 'Mohan', 381234, 'Hello'}\n"
     ]
    }
   ],
   "source": [
    "s1.add(381234)\n",
    "print(s1)"
   ]
  },
  {
   "cell_type": "code",
   "execution_count": 14,
   "metadata": {},
   "outputs": [
    {
     "name": "stdout",
     "output_type": "stream",
     "text": [
      "{'cherry', 'apple', 'banana'}\n",
      "{'banana', 'grapes', 'apple', 'mango', 'orange', 'cherry'}\n"
     ]
    }
   ],
   "source": [
    "# update() - add multiple items to set\n",
    "s2 = {\"apple\", \"banana\", \"cherry\"}\n",
    "print(s2)\n",
    "s2.update([\"orange\", \"mango\", \"grapes\"])\n",
    "print(s2)"
   ]
  },
  {
   "cell_type": "code",
   "execution_count": 15,
   "metadata": {},
   "outputs": [
    {
     "name": "stdout",
     "output_type": "stream",
     "text": [
      "10\n",
      "6\n"
     ]
    }
   ],
   "source": [
    "print(len(s1))\n",
    "print(len(s2))"
   ]
  },
  {
   "cell_type": "code",
   "execution_count": 16,
   "metadata": {},
   "outputs": [
    {
     "name": "stdout",
     "output_type": "stream",
     "text": [
      "{1, 2, 'man', 3, 'b', 'a', 'c', 'Mohan', 381234, 'Hello'}\n",
      "{1, 2, 'man', 3, 'b', 'a', 'c', 381234, 'Hello'}\n"
     ]
    }
   ],
   "source": [
    "# remove() - delete a particular element\n",
    "print(s1)\n",
    "s1.remove('Mohan')\n",
    "print(s1)"
   ]
  },
  {
   "cell_type": "code",
   "execution_count": 21,
   "metadata": {},
   "outputs": [
    {
     "name": "stdout",
     "output_type": "stream",
     "text": [
      "{'banana', 'grapes', 'apple', 'mango', 'orange', 'cherry'}\n",
      "{'grapes', 'apple', 'mango', 'orange', 'cherry'}\n"
     ]
    }
   ],
   "source": [
    "# discard()\n",
    "print(s2)\n",
    "s2.discard(\"banana\")\n",
    "print(s2)"
   ]
  },
  {
   "cell_type": "code",
   "execution_count": 22,
   "metadata": {},
   "outputs": [
    {
     "name": "stdout",
     "output_type": "stream",
     "text": [
      "{'grapes', 'apple', 'mango', 'orange', 'cherry'}\n",
      "grapes\n",
      "{'apple', 'mango', 'orange', 'cherry'}\n"
     ]
    }
   ],
   "source": [
    "# pop()\n",
    "print(s2)\n",
    "print(s2.pop())\n",
    "print(s2)"
   ]
  },
  {
   "cell_type": "code",
   "execution_count": 23,
   "metadata": {},
   "outputs": [
    {
     "name": "stdout",
     "output_type": "stream",
     "text": [
      "{'apple', 'mango', 'orange', 'cherry'}\n",
      "None\n",
      "set()\n"
     ]
    }
   ],
   "source": [
    "# clear()\n",
    "print(s2)\n",
    "print(s2.clear())\n",
    "print(s2)"
   ]
  },
  {
   "cell_type": "code",
   "execution_count": 24,
   "metadata": {},
   "outputs": [
    {
     "ename": "NameError",
     "evalue": "name 's2' is not defined",
     "output_type": "error",
     "traceback": [
      "\u001b[1;31m---------------------------------------------------------------------------\u001b[0m",
      "\u001b[1;31mNameError\u001b[0m                                 Traceback (most recent call last)",
      "\u001b[1;32m<ipython-input-24-e02317dd7fa8>\u001b[0m in \u001b[0;36m<module>\u001b[1;34m\u001b[0m\n\u001b[0;32m      1\u001b[0m \u001b[1;32mdel\u001b[0m \u001b[0ms2\u001b[0m\u001b[1;33m\u001b[0m\u001b[1;33m\u001b[0m\u001b[0m\n\u001b[1;32m----> 2\u001b[1;33m \u001b[0mprint\u001b[0m\u001b[1;33m(\u001b[0m\u001b[0ms2\u001b[0m\u001b[1;33m)\u001b[0m\u001b[1;33m\u001b[0m\u001b[1;33m\u001b[0m\u001b[0m\n\u001b[0m",
      "\u001b[1;31mNameError\u001b[0m: name 's2' is not defined"
     ]
    }
   ],
   "source": [
    "del s2\n",
    "print(s2)"
   ]
  },
  {
   "cell_type": "code",
   "execution_count": 26,
   "metadata": {},
   "outputs": [
    {
     "name": "stdout",
     "output_type": "stream",
     "text": [
      "{'Guntur', 'Ramesh', 'CET', 'Prasanna', 'Mohan'}\n",
      "{1, 2, 3, 5, 'F5'}\n",
      "{'Guntur', 'Ramesh', 'CET', 'Prasanna', 'Mohan'}\n",
      "{1, 2, 3, 5, 'F5'}\n",
      "{'Guntur', 1, 2, 3, 'Ramesh', 5, 'F5', 'CET', 'Prasanna', 'Mohan'}\n"
     ]
    }
   ],
   "source": [
    "# union()\n",
    "s11 = {'Mohan','Prasanna', 'Ramesh', 'Mohan','Guntur','CET'}\n",
    "s12 = {1,2,3,'F5',3,5,1}\n",
    "print(s11)\n",
    "print(s12)\n",
    "s13 = s11.union(s12)\n",
    "print(s11)\n",
    "print(s12)\n",
    "print(s13)"
   ]
  },
  {
   "cell_type": "code",
   "execution_count": 27,
   "metadata": {},
   "outputs": [
    {
     "name": "stdout",
     "output_type": "stream",
     "text": [
      "{'Guntur', 'Ramesh', 'CET', 'Prasanna', 'Mohan'}\n",
      "{1, 2, 3, 5, 'F5'}\n",
      "{'Guntur', 1, 2, 3, 'Ramesh', 5, 'F5', 'CET', 'Prasanna', 'Mohan'}\n",
      "{1, 2, 3, 5, 'F5'}\n",
      "None\n"
     ]
    }
   ],
   "source": [
    "# update()\n",
    "s11 = {'Mohan','Prasanna', 'Ramesh', 'Mohan','Guntur','CET'}\n",
    "s12 = {1,2,3,'F5',3,5,1}\n",
    "print(s11)\n",
    "print(s12)\n",
    "s13 = s11.update(s12)\n",
    "print(s11)\n",
    "print(s12)\n",
    "print(s13)"
   ]
  },
  {
   "cell_type": "code",
   "execution_count": 37,
   "metadata": {},
   "outputs": [
    {
     "name": "stdout",
     "output_type": "stream",
     "text": [
      "{1, 2, 3, 4, 5, 6, 7, 8, 9, 10, 91}\n",
      "{1, 5, 6, 7, 8, 9}\n",
      "{2, 3, 4, 10, 91}\n",
      "{1, 2, 3, 4, 5, 6, 7, 8, 9, 10, 91}\n",
      "{1, 5, 6, 7, 8, 9}\n"
     ]
    }
   ],
   "source": [
    "# task\n",
    "s = {1,2,3,4,5,6,7,8,91,2,3,7,8,9,10}\n",
    "# remove values 7,8,9,1,5,6\n",
    "print(s)\n",
    "ss = {7,8,9,1,5,6}\n",
    "print(ss)\n",
    "print(s.symmetric_difference(ss))\n",
    "#s.remove(7)\n",
    "#s.remove(8)\n",
    "#s.remove(9)\n",
    "#s.remove(1)\n",
    "#s.remove(5)\n",
    "#s.remove(6)\n",
    "print(s)\n",
    "print(ss)"
   ]
  },
  {
   "cell_type": "code",
   "execution_count": 38,
   "metadata": {},
   "outputs": [],
   "source": [
    "s.clear()\n",
    "ss.clear()\n",
    "del s\n",
    "del ss"
   ]
  },
  {
   "cell_type": "code",
   "execution_count": 39,
   "metadata": {},
   "outputs": [
    {
     "name": "stdout",
     "output_type": "stream",
     "text": [
      "{2, 3, 4, 10, 91}\n"
     ]
    }
   ],
   "source": [
    "s = {1,2,3,4,5,6,7,8,91,2,3,7,8,9,10}\n",
    "ss = {7,8,9,1,5,6}\n",
    "print(s.symmetric_difference(ss))"
   ]
  },
  {
   "cell_type": "code",
   "execution_count": 42,
   "metadata": {},
   "outputs": [
    {
     "name": "stdout",
     "output_type": "stream",
     "text": [
      "{2, 3, 4, 10, 91}\n"
     ]
    }
   ],
   "source": [
    "s = {1,2,3,4,5,6,7,8,91,2,3,7,8,9,10}\n",
    "ss = {7,8,9,1,5,6}\n",
    "for i in ss:\n",
    "    s.remove(i)\n",
    "print(s)\n",
    "#print(s.symmetric_difference(ss))"
   ]
  },
  {
   "cell_type": "code",
   "execution_count": 43,
   "metadata": {},
   "outputs": [
    {
     "name": "stdout",
     "output_type": "stream",
     "text": [
      "{2, 3, 4, 10, 91}\n"
     ]
    }
   ],
   "source": [
    "s = {1,2,3,4,5,6,7,8,91,2,3,7,8,9,10}\n",
    "ss = {7,8,9,1,5,6}\n",
    "for i in ss:\n",
    "    s.discard(i)\n",
    "print(s)"
   ]
  },
  {
   "cell_type": "code",
   "execution_count": 51,
   "metadata": {},
   "outputs": [
    {
     "name": "stdout",
     "output_type": "stream",
     "text": [
      "{2, 3, 4, 10, 91}\n"
     ]
    }
   ],
   "source": [
    "s1 = {1,2,3,4,5,6,7,8,91,2,3,7,8,9,10}\n",
    "ss1 = {7,8,9,1,5,6}\n",
    "{s1.discard(i) for i in ss1 }\n",
    "print(s1)"
   ]
  },
  {
   "cell_type": "code",
   "execution_count": 56,
   "metadata": {},
   "outputs": [
    {
     "name": "stdout",
     "output_type": "stream",
     "text": [
      "{1, 2, 3, 4, 5, 6, 7, 8, 9, 10, 91}\n"
     ]
    }
   ],
   "source": [
    "s22 = {1,2,3,4,5,6,7,8,91,2,3,7,8,9,10}\n",
    "s22.discard({7,8,9,1,5,6})\n",
    "print(s22)"
   ]
  },
  {
   "cell_type": "code",
   "execution_count": 1,
   "metadata": {},
   "outputs": [
    {
     "name": "stdout",
     "output_type": "stream",
     "text": [
      "{1, 2, 3, 4, 5, 6, 7, 8, 9, 10, 91}\n"
     ]
    }
   ],
   "source": [
    "s123 = {1,2,3,4,5,6,7,8,91,2,3,7,8,9,10}\n",
    "s123.discard({7,8,9,1,5,6})\n",
    "print(s123)\n",
    "\n"
   ]
  },
  {
   "cell_type": "code",
   "execution_count": null,
   "metadata": {},
   "outputs": [],
   "source": [
    "### Regular Expressions\n",
    "## Regular Expression is a sequence of characters that forms a pattern (search pattern)\n",
    "## validating data\n",
    "## import re package"
   ]
  },
  {
   "cell_type": "code",
   "execution_count": 3,
   "metadata": {},
   "outputs": [
    {
     "name": "stdout",
     "output_type": "stream",
     "text": [
      "['A', 'ASCII', 'DEBUG', 'DOTALL', 'I', 'IGNORECASE', 'L', 'LOCALE', 'M', 'MULTILINE', 'Match', 'Pattern', 'RegexFlag', 'S', 'Scanner', 'T', 'TEMPLATE', 'U', 'UNICODE', 'VERBOSE', 'X', '_MAXCACHE', '__all__', '__builtins__', '__cached__', '__doc__', '__file__', '__loader__', '__name__', '__package__', '__spec__', '__version__', '_cache', '_compile', '_compile_repl', '_expand', '_locale', '_pickle', '_special_chars_map', '_subx', 'compile', 'copyreg', 'enum', 'error', 'escape', 'findall', 'finditer', 'fullmatch', 'functools', 'match', 'purge', 'search', 'split', 'sre_compile', 'sre_parse', 'sub', 'subn', 'template'] "
     ]
    }
   ],
   "source": [
    "import re\n",
    "print(dir(re),end = ' ')"
   ]
  },
  {
   "cell_type": "code",
   "execution_count": 5,
   "metadata": {},
   "outputs": [
    {
     "name": "stdout",
     "output_type": "stream",
     "text": [
      "<re.Match object; span=(0, 1), match='A'>\n"
     ]
    }
   ],
   "source": [
    "# match\n",
    "import re\n",
    "a = re.match('A','APSSDC')\n",
    "print(a)"
   ]
  },
  {
   "cell_type": "code",
   "execution_count": 6,
   "metadata": {},
   "outputs": [
    {
     "name": "stdout",
     "output_type": "stream",
     "text": [
      "<re.Match object; span=(2, 3), match='S'>\n"
     ]
    }
   ],
   "source": [
    "# search\n",
    "a = re.search('S','APSSDC')\n",
    "print(a)"
   ]
  },
  {
   "cell_type": "code",
   "execution_count": 8,
   "metadata": {},
   "outputs": [
    {
     "name": "stdout",
     "output_type": "stream",
     "text": [
      "None\n"
     ]
    }
   ],
   "source": [
    "a = re.match('man','APSSDC man')\n",
    "print(a)"
   ]
  },
  {
   "cell_type": "code",
   "execution_count": 9,
   "metadata": {},
   "outputs": [
    {
     "name": "stdout",
     "output_type": "stream",
     "text": [
      "<re.Match object; span=(7, 10), match='man'>\n"
     ]
    }
   ],
   "source": [
    "a = re.search('man','APSSDC manual')\n",
    "print(a)"
   ]
  },
  {
   "cell_type": "code",
   "execution_count": 10,
   "metadata": {},
   "outputs": [
    {
     "name": "stdout",
     "output_type": "stream",
     "text": [
      "['man', 'man']\n"
     ]
    }
   ],
   "source": [
    "a = re.findall('man','APSSDC manual is Python based manual')\n",
    "print(a)"
   ]
  },
  {
   "cell_type": "code",
   "execution_count": 13,
   "metadata": {},
   "outputs": [
    {
     "name": "stdout",
     "output_type": "stream",
     "text": [
      "Enter a string A12345PSSDDeftgC\n",
      "<re.Match object; span=(0, 16), match='A12345PSSDDeftgC'>\n"
     ]
    }
   ],
   "source": [
    "import re\n",
    "\n",
    "string1 = input('Enter a string ')  # A12345PSSDDeftgC123dsd\n",
    "pattern1 = '^A.*C$'\n",
    "x = re.search(pattern1,string1)\n",
    "print(x)"
   ]
  },
  {
   "cell_type": "code",
   "execution_count": 14,
   "metadata": {},
   "outputs": [
    {
     "name": "stdout",
     "output_type": "stream",
     "text": [
      "Enter a string A12345PSSDDeftgC123dsd\n",
      "None\n"
     ]
    }
   ],
   "source": [
    "string1 = input('Enter a string ')  # A12345PSSDDeftgC123dsd\n",
    "pattern1 = '^A.*C$'\n",
    "x = re.search(pattern1,string1)\n",
    "print(x)"
   ]
  },
  {
   "cell_type": "code",
   "execution_count": 15,
   "metadata": {},
   "outputs": [
    {
     "name": "stdout",
     "output_type": "stream",
     "text": [
      "Enter a string A12345PSSDDeftgC123dsd\n",
      "<re.Match object; span=(0, 16), match='A12345PSSDDeftgC'>\n"
     ]
    }
   ],
   "source": [
    "string1 = input('Enter a string ')  # A12345PSSDDeftgC123dsd\n",
    "pattern1 = '^A.*C'\n",
    "x = re.search(pattern1,string1)\n",
    "print(x)"
   ]
  },
  {
   "cell_type": "code",
   "execution_count": 17,
   "metadata": {},
   "outputs": [
    {
     "data": {
      "text/plain": [
       "<re.Match object; span=(0, 1), match='M'>"
      ]
     },
     "execution_count": 17,
     "metadata": {},
     "output_type": "execute_result"
    }
   ],
   "source": [
    "re.search('^M','Mohan1')"
   ]
  },
  {
   "cell_type": "code",
   "execution_count": 20,
   "metadata": {},
   "outputs": [
    {
     "data": {
      "text/plain": [
       "<re.Match object; span=(4, 5), match='n'>"
      ]
     },
     "execution_count": 20,
     "metadata": {},
     "output_type": "execute_result"
    }
   ],
   "source": [
    "re.search('n$','Mohan')"
   ]
  },
  {
   "cell_type": "code",
   "execution_count": 21,
   "metadata": {},
   "outputs": [
    {
     "data": {
      "text/plain": [
       "<re.Match object; span=(0, 5), match='Mohan'>"
      ]
     },
     "execution_count": 21,
     "metadata": {},
     "output_type": "execute_result"
    }
   ],
   "source": [
    "re.search('^M.*n$','Mohan')"
   ]
  },
  {
   "cell_type": "code",
   "execution_count": 24,
   "metadata": {},
   "outputs": [
    {
     "data": {
      "text/plain": [
       "<re.Match object; span=(2, 3), match=' '>"
      ]
     },
     "execution_count": 24,
     "metadata": {},
     "output_type": "execute_result"
    }
   ],
   "source": [
    "# white spaces\n",
    "re.search('\\s','Mo ha n')"
   ]
  },
  {
   "cell_type": "code",
   "execution_count": 23,
   "metadata": {},
   "outputs": [
    {
     "data": {
      "text/plain": [
       "<re.Match object; span=(0, 1), match='M'>"
      ]
     },
     "execution_count": 23,
     "metadata": {},
     "output_type": "execute_result"
    }
   ],
   "source": [
    "# non white spaces\n",
    "re.search('\\S','Mohan')"
   ]
  },
  {
   "cell_type": "code",
   "execution_count": 25,
   "metadata": {},
   "outputs": [
    {
     "data": {
      "text/plain": [
       "<re.Match object; span=(0, 1), match='9'>"
      ]
     },
     "execution_count": 25,
     "metadata": {},
     "output_type": "execute_result"
    }
   ],
   "source": [
    "# matcehs the  char 0 or more times\n",
    "re.search('9*','985142496389Mohan')"
   ]
  },
  {
   "cell_type": "code",
   "execution_count": 33,
   "metadata": {},
   "outputs": [
    {
     "name": "stdout",
     "output_type": "stream",
     "text": [
      "Avinash\n"
     ]
    }
   ],
   "source": [
    "#\n",
    "import numpy as np\n",
    "import re\n",
    "names = ['mohan','srinivas','gopi','Avinash', 'Raj']\n",
    "for i in names:\n",
    "    if re.match('^A',i):\n",
    "        print(i)"
   ]
  },
  {
   "cell_type": "code",
   "execution_count": 34,
   "metadata": {},
   "outputs": [
    {
     "name": "stdout",
     "output_type": "stream",
     "text": [
      "Avinash\n",
      "Anniiisssh\n"
     ]
    }
   ],
   "source": [
    "names = ['mohan','srinivas','gopi','Avinash', 'Raj', 'Anniiisssh']\n",
    "for i in names:\n",
    "    if re.match('[A].*[h]',i):\n",
    "        print(i)"
   ]
  },
  {
   "cell_type": "code",
   "execution_count": 38,
   "metadata": {},
   "outputs": [
    {
     "name": "stdout",
     "output_type": "stream",
     "text": [
      "+91 7989898989\n",
      "+91 9857545685\n"
     ]
    }
   ],
   "source": [
    "# mobile number validation\n",
    "import re\n",
    "mobilenos = [7989898989, 988854652314, 9857545685, 4567859451, 885246318 ]\n",
    "for i in mobilenos:\n",
    "    if re.findall('^[6-9]\\d{9}$', str(i)):\n",
    "        print('+91',i)"
   ]
  },
  {
   "cell_type": "code",
   "execution_count": null,
   "metadata": {},
   "outputs": [],
   "source": [
    "# Valid Gmail ids only\n",
    "\n",
    "'''\n",
    "prasannaraj.m@appsdc.in,\n",
    "prasannaraj@gmail.com,------------Valid\n",
    "prasanna1429@gmail.com,------------Valid\n",
    "123abc.xyz@gmail.com,------------Valid\n",
    "*&%$abc@gmail.com,\n",
    "123abc@yahoo.co.in,\n",
    "prasanna.raj.m@gmail.com------------Valid\n",
    "\n",
    "'''\n",
    "# write a pattern to valid gmail ids only"
   ]
  },
  {
   "cell_type": "code",
   "execution_count": 8,
   "metadata": {},
   "outputs": [
    {
     "name": "stdout",
     "output_type": "stream",
     "text": [
      "prasannaraj@gmail.com\n",
      "prasanna1429@gmail.com\n",
      "123abc.xyz@gmail.com\n",
      "prasanna.raj.m@gmail.com\n"
     ]
    }
   ],
   "source": [
    "# email validdation\n",
    "\n",
    "import re\n",
    "emailIDs = [\"prasannaraj.m@appsdc.in\",\"prasannaraj@gmail.com\",\"prasanna1429@gmail.com\", \"123abc.xyz@gmail.com\",\"*&%$abc@gmail.com\",\"123abc#yahoo.co.in\",\"prasanna.raj.m@gmail.com\"]\n",
    "\n",
    "# regex = '^[a-z]+[\\._]?[a-z0-9]+[@]\\w+[.]\\w{2,3}$'\n",
    "regex = '^[a-z0-9]+([\\.]?[a-z0-9])+@gmail.com$'\n",
    "for i in emailIDs:    \n",
    "    if re.match(regex,i):\n",
    "        print(i)"
   ]
  },
  {
   "cell_type": "code",
   "execution_count": 9,
   "metadata": {},
   "outputs": [
    {
     "data": {
      "text/plain": [
       "['zzzzzzzzzzzz']"
      ]
     },
     "execution_count": 9,
     "metadata": {},
     "output_type": "execute_result"
    }
   ],
   "source": [
    "# greedy and non-greedy method\n",
    "import re\n",
    "re.findall('z+', 'zzzzzzzzzzzz')\n",
    "# single "
   ]
  },
  {
   "cell_type": "code",
   "execution_count": 10,
   "metadata": {},
   "outputs": [
    {
     "data": {
      "text/plain": [
       "['a', 'a', 'a', 'a']"
      ]
     },
     "execution_count": 10,
     "metadata": {},
     "output_type": "execute_result"
    }
   ],
   "source": [
    "import re\n",
    "re.findall('a+?','aaaabbbbcccccc')\n",
    "# mutiple in singles"
   ]
  },
  {
   "cell_type": "code",
   "execution_count": 18,
   "metadata": {},
   "outputs": [
    {
     "data": {
      "text/plain": [
       "['aaaaaaaaa']"
      ]
     },
     "execution_count": 18,
     "metadata": {},
     "output_type": "execute_result"
    }
   ],
   "source": [
    "# non-greedy method\n",
    "import re\n",
    "re.findall('a+','aaaaaaaaa')"
   ]
  },
  {
   "cell_type": "code",
   "execution_count": 14,
   "metadata": {},
   "outputs": [
    {
     "data": {
      "text/plain": [
       "['aaa', 'aaa', 'aaa']"
      ]
     },
     "execution_count": 14,
     "metadata": {},
     "output_type": "execute_result"
    }
   ],
   "source": [
    "# greedy method\n",
    "import re\n",
    "re.findall('a{3}','aaaaaaaaaa')"
   ]
  },
  {
   "cell_type": "code",
   "execution_count": null,
   "metadata": {},
   "outputs": [],
   "source": [
    "# greedy method default\n",
    "# ? + * {m} and {a,b}\n",
    "\n",
    "#non greedy method\n",
    "# ??, *?, +?"
   ]
  }
 ],
 "metadata": {
  "kernelspec": {
   "display_name": "Python 3",
   "language": "python",
   "name": "python3"
  },
  "language_info": {
   "codemirror_mode": {
    "name": "ipython",
    "version": 3
   },
   "file_extension": ".py",
   "mimetype": "text/x-python",
   "name": "python",
   "nbconvert_exporter": "python",
   "pygments_lexer": "ipython3",
   "version": "3.7.6"
  }
 },
 "nbformat": 4,
 "nbformat_minor": 4
}
