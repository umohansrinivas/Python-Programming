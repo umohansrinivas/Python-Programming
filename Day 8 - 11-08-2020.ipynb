{
 "cells": [
  {
   "cell_type": "markdown",
   "metadata": {},
   "source": [
    "## OOP Programming\n",
    "### Object Oriented Programming\n",
    "### What is class\n",
    "    ## to create object we require some model or plan which is a class\n",
    "    ## we can write a class to represent properties and some actions on objects\n",
    "    ## properties can be represented by variables \n",
    "    ## actions can be represented by methods\n",
    "    ## class contains veraible and methods\n",
    "to define the class by using 'class' keyword\n"
   ]
  },
  {
   "cell_type": "code",
   "execution_count": null,
   "metadata": {},
   "outputs": [],
   "source": [
    "class A:\n",
    "    pass"
   ]
  },
  {
   "cell_type": "code",
   "execution_count": null,
   "metadata": {},
   "outputs": [],
   "source": [
    "# Syntax:\n",
    "# class classname\n",
    "  # 'documentation about the class'\n",
    "  # variables\n",
    "  # methods\n",
    "# print(classname.__doc__)"
   ]
  },
  {
   "cell_type": "code",
   "execution_count": 6,
   "metadata": {},
   "outputs": [
    {
     "name": "stdout",
     "output_type": "stream",
     "text": [
      "Hello Mohan\n",
      "'This class represents student data'\n",
      "Help on class Student in module __main__:\n",
      "\n",
      "class Student(builtins.object)\n",
      " |  'This class represents student data'\n",
      " |  \n",
      " |  Data descriptors defined here:\n",
      " |  \n",
      " |  __dict__\n",
      " |      dictionary for instance variables (if defined)\n",
      " |  \n",
      " |  __weakref__\n",
      " |      list of weak references to the object (if defined)\n",
      " |  \n",
      " |  ----------------------------------------------------------------------\n",
      " |  Data and other attributes defined here:\n",
      " |  \n",
      " |  name = 'Mohan'\n",
      "\n"
     ]
    },
    {
     "data": {
      "text/plain": [
       "'Mohan'"
      ]
     },
     "execution_count": 6,
     "metadata": {},
     "output_type": "execute_result"
    }
   ],
   "source": [
    "class Student:\n",
    "    \"'This class represents student data'\"\n",
    "    name = 'Mohan'\n",
    "    print('Hello', name)\n",
    "\n",
    "print(Student.__doc__)\n",
    "help(Student)\n",
    "Student.name"
   ]
  },
  {
   "cell_type": "code",
   "execution_count": 17,
   "metadata": {},
   "outputs": [
    {
     "name": "stdout",
     "output_type": "stream",
     "text": [
      "Called constructor\n",
      "Name  Mohan\n",
      "Roll Number  15\n",
      "Marks  85\n",
      "Called constructor\n",
      "Name  srinivas\n",
      "Roll Number  25\n",
      "Marks  95\n"
     ]
    }
   ],
   "source": [
    "class student:\n",
    "    \"'This student class gives student data'\"\n",
    "    def __init__(self, name='Mohan', rollno=15, marks=85):   # constructor\n",
    "        self.name = name\n",
    "        self.rollno = rollno\n",
    "        self.marks = marks\n",
    "        print('Called constructor')\n",
    "    def display(self):\n",
    "        print('Name ',self.name)\n",
    "        print('Roll Number ', self.rollno)\n",
    "        print('Marks ', self.marks)\n",
    "\n",
    "s1 = student()\n",
    "s1.display()\n",
    "\n",
    "s2 = student('srinivas',25,95)\n",
    "s2.display()"
   ]
  },
  {
   "cell_type": "code",
   "execution_count": 18,
   "metadata": {},
   "outputs": [
    {
     "name": "stdout",
     "output_type": "stream",
     "text": [
      "Called default constructor\n",
      "Called display method\n"
     ]
    }
   ],
   "source": [
    "class test:\n",
    "    \"'This test class gives constructor and method calling'\"\n",
    "    def __init__(self):   # constructor\n",
    "        print('Called default constructor')\n",
    "    def display(self):\n",
    "        print('Called display method')\n",
    "\n",
    "t1 = test()\n",
    "t1.display()"
   ]
  },
  {
   "cell_type": "code",
   "execution_count": 24,
   "metadata": {},
   "outputs": [
    {
     "name": "stdout",
     "output_type": "stream",
     "text": [
      "30\n"
     ]
    }
   ],
   "source": [
    "class var:\n",
    "    x = 10\n",
    "    y = 20\n",
    "    def add(self):\n",
    "        print(self.x+self.y)\n",
    "        #print('calling add method')\n",
    "\n",
    "obj1 = var()\n",
    "obj1.add()"
   ]
  },
  {
   "cell_type": "code",
   "execution_count": 34,
   "metadata": {},
   "outputs": [
    {
     "name": "stdout",
     "output_type": "stream",
     "text": [
      "30\n",
      "30\n",
      "100\n",
      "calling add method\n",
      "-10\n",
      "-10\n",
      "-60\n",
      "calling sub method\n"
     ]
    }
   ],
   "source": [
    "class var:\n",
    "    x = 10 #static variable\n",
    "    y = 20 #static variable\n",
    "    def add(self,p,q):\n",
    "        #self.x = p\n",
    "        #self.y = q\n",
    "        print(self.x+self.y)\n",
    "        print(var.x+var.y)\n",
    "        print(p+q) # local\n",
    "        \n",
    "        print('calling add method')\n",
    "    def sub(self,p,q):\n",
    "        #self.x = p\n",
    "        #self.y = q\n",
    "        print(self.x-self.y)\n",
    "        print(var.x-var.y)\n",
    "        print(p-q) # local\n",
    "        print('calling sub method')\n",
    "\n",
    "obj2 = var()\n",
    "obj2.add(40,60)\n",
    "obj2.sub(40,100)"
   ]
  },
  {
   "cell_type": "code",
   "execution_count": null,
   "metadata": {},
   "outputs": [],
   "source": [
    "# inheritance\n",
    "class A:\n",
    "    pass\n",
    "class B(A):\n",
    "    pass"
   ]
  },
  {
   "cell_type": "code",
   "execution_count": 39,
   "metadata": {},
   "outputs": [
    {
     "name": "stdout",
     "output_type": "stream",
     "text": [
      "Constructor university called\n",
      "Constructor college called\n",
      "College method m2\n",
      "89\n",
      "90\n",
      "University method m1\n"
     ]
    }
   ],
   "source": [
    "class university:\n",
    "    a = 89\n",
    "    def __init__(self):\n",
    "        self.b = 90\n",
    "        print('Constructor university called')\n",
    "    def m1(self):\n",
    "        print('University method m1')\n",
    "\n",
    "class college:\n",
    "    def __init__(self):\n",
    "        self.university = university()\n",
    "        print('Constructor college called')\n",
    "        \n",
    "    def m2(self):\n",
    "        print('College method m2')\n",
    "        print(self.university.a)\n",
    "        print(self.university.b)\n",
    "        self.university.m1()\n",
    "\n",
    "c = college()\n",
    "c.m2()"
   ]
  },
  {
   "cell_type": "code",
   "execution_count": null,
   "metadata": {},
   "outputs": [],
   "source": [
    "class square:\n",
    "    def __init__(self,length,width):\n",
    "        self.length=length\n",
    "        self.width=width\n",
    "    def area(self):\n",
    "        print('area is',self.length*self.width)\n",
    "\n",
    "class cube(square):\n",
    "    def __init__(self,length,width,height):\n",
    "        self.square=square(length,width)\n",
    "        self.height=height\n",
    "    def volume(self):\n",
    "        print('volume is',self.square.length*self.square.width*self.height)\n",
    "\n",
    "c=cube(10,20,30)\n",
    "c.volume()\n",
    "c.area()"
   ]
  },
  {
   "cell_type": "code",
   "execution_count": 42,
   "metadata": {},
   "outputs": [
    {
     "name": "stdout",
     "output_type": "stream",
     "text": [
      "10\n",
      "20\n",
      "calling method m1 of class x\n",
      "30\n",
      "40\n",
      "calling method m2 of class y\n",
      "10\n",
      "20\n",
      "calling method m1 of class x\n",
      "30\n",
      "40\n",
      "calling method m2 of class y\n",
      "calling method m3 of class y\n"
     ]
    }
   ],
   "source": [
    "class x:\n",
    "    a = 10\n",
    "    def __init__(self):\n",
    "        self.b = 20\n",
    "    def m1(self):\n",
    "        print('calling method m1 of class x')\n",
    "\n",
    "class y:  # as relation\n",
    "    c = 30\n",
    "    def __init__(self):\n",
    "        self.d = 40\n",
    "    def m2(self):\n",
    "        print('calling method m2 of class y')\n",
    "    def m3(self):\n",
    "        x1 = x()\n",
    "        print(x1.a)\n",
    "        print(x1.b)\n",
    "        x1.m1()\n",
    "        print(y.c)\n",
    "        print(self.d)\n",
    "        self.m2()\n",
    "        print('calling method m3 of class y')\n",
    "\n",
    "xobj = x()\n",
    "print(xobj.a)\n",
    "print(xobj.b)\n",
    "xobj.m1()\n",
    "\n",
    "yobj = y()\n",
    "print(yobj.c)\n",
    "print(yobj.d)\n",
    "yobj.m2()\n",
    "yobj.m3()"
   ]
  },
  {
   "cell_type": "code",
   "execution_count": 48,
   "metadata": {},
   "outputs": [
    {
     "name": "stdout",
     "output_type": "stream",
     "text": [
      "calling constructor of parent class\n",
      "25\n",
      "35\n",
      "calling self arg in method m1 of parent class\n",
      "calling cls arg in method m2 of parent class\n"
     ]
    },
    {
     "ename": "TypeError",
     "evalue": "m3() takes 0 positional arguments but 1 was given",
     "output_type": "error",
     "traceback": [
      "\u001b[1;31m---------------------------------------------------------------------------\u001b[0m",
      "\u001b[1;31mTypeError\u001b[0m                                 Traceback (most recent call last)",
      "\u001b[1;32m<ipython-input-48-653815f5e4b1>\u001b[0m in \u001b[0;36m<module>\u001b[1;34m\u001b[0m\n\u001b[0;32m     20\u001b[0m \u001b[0mc\u001b[0m\u001b[1;33m.\u001b[0m\u001b[0mm1\u001b[0m\u001b[1;33m(\u001b[0m\u001b[1;33m)\u001b[0m\u001b[1;33m\u001b[0m\u001b[1;33m\u001b[0m\u001b[0m\n\u001b[0;32m     21\u001b[0m \u001b[0mc\u001b[0m\u001b[1;33m.\u001b[0m\u001b[0mm2\u001b[0m\u001b[1;33m(\u001b[0m\u001b[1;33m)\u001b[0m\u001b[1;33m\u001b[0m\u001b[1;33m\u001b[0m\u001b[0m\n\u001b[1;32m---> 22\u001b[1;33m \u001b[0mc\u001b[0m\u001b[1;33m.\u001b[0m\u001b[0mm3\u001b[0m\u001b[1;33m(\u001b[0m\u001b[1;33m)\u001b[0m\u001b[1;33m\u001b[0m\u001b[1;33m\u001b[0m\u001b[0m\n\u001b[0m",
      "\u001b[1;31mTypeError\u001b[0m: m3() takes 0 positional arguments but 1 was given"
     ]
    }
   ],
   "source": [
    "# is a relation\n",
    "class parent:\n",
    "    x = 25\n",
    "    def __init__(self):\n",
    "        self.y = 35\n",
    "        print('calling constructor of parent class')\n",
    "    def m1(self):\n",
    "        print('calling self arg in method m1 of parent class')\n",
    "    @ class method\n",
    "    def m2(cls):\n",
    "        print('calling cls arg in method m2 of parent class')\n",
    "    @ static method\n",
    "    def m3():\n",
    "        print('calling empty args in method m3 of parent class')\n",
    "\n",
    "class child(parent):\n",
    "    pass\n",
    "\n",
    "c = child()\n",
    "print(c.x)\n",
    "print(c.y)\n",
    "c.m1()\n",
    "c.m2()\n",
    "c.m3()\n"
   ]
  },
  {
   "cell_type": "code",
   "execution_count": 52,
   "metadata": {},
   "outputs": [
    {
     "name": "stdout",
     "output_type": "stream",
     "text": [
      "props of person\n",
      "Python OOP is easy\n",
      "Employee Name mohan\n",
      "Employee Age 35\n",
      "Employee Number 12345\n",
      "Employee Salary 150000\n"
     ]
    }
   ],
   "source": [
    "class person:\n",
    "    def __init__(self,name,age):\n",
    "        self.name = name\n",
    "        self.age = age\n",
    "    def prop(self):\n",
    "        print('props of person')\n",
    "class employee(person):    \n",
    "    def __init__(self,name,age,eno,sal):\n",
    "        super().__init__(name,age)\n",
    "        self.eno = eno\n",
    "        self.sal = sal\n",
    "    def work(self):\n",
    "        print('Python OOP is easy')\n",
    "    def empinfo(self):\n",
    "        print('Employee Name',self.name)\n",
    "        print('Employee Age',self.age)\n",
    "        print('Employee Number',self.eno)\n",
    "        print('Employee Salary',self.sal)\n",
    "\n",
    "emp1 = employee('mohan',35,12345,150000)\n",
    "emp1.prop()\n",
    "emp1.work()\n",
    "emp1.empinfo()"
   ]
  },
  {
   "cell_type": "code",
   "execution_count": 60,
   "metadata": {},
   "outputs": [
    {
     "name": "stdout",
     "output_type": "stream",
     "text": [
      "m1 method of class p\n",
      "m1 method of class p\n",
      "m2 method of class c(p)\n",
      "m1 method of class p\n",
      "m2 method of class c(p)\n",
      "m3 method of class csub(c)\n"
     ]
    }
   ],
   "source": [
    "# multi level inheritance\n",
    "class p:\n",
    "    def m1(self):\n",
    "        print('m1 method of class p')\n",
    "\n",
    "class c(p):\n",
    "    def m2(self):\n",
    "        print('m2 method of class c(p)')\n",
    "\n",
    "class csub(c):\n",
    "    def m3(self):\n",
    "        print('m3 method of class csub(c)')\n",
    "\n",
    "obj1 = p()\n",
    "obj1.m1()\n",
    "\n",
    "obj2 = c()\n",
    "obj2.m1()\n",
    "obj2.m2()\n",
    "\n",
    "obj3 = csub()\n",
    "obj3.m1()\n",
    "obj3.m2()\n",
    "obj3.m3()"
   ]
  },
  {
   "cell_type": "code",
   "execution_count": null,
   "metadata": {},
   "outputs": [],
   "source": [
    "# polymorphism\n",
    "# poly - many, morphism - forms\n",
    "# number of many forms - multiple ways of same method"
   ]
  },
  {
   "cell_type": "code",
   "execution_count": 63,
   "metadata": {},
   "outputs": [
    {
     "name": "stdout",
     "output_type": "stream",
     "text": [
      "duck talks - quack quack\n",
      "dog talks - bow bow\n",
      "cat talks - meow meow\n"
     ]
    }
   ],
   "source": [
    "class duck():\n",
    "    def talk(self):\n",
    "        print('duck talks - quack quack')\n",
    "\n",
    "class dog():\n",
    "    def talk(self):\n",
    "        print('dog talks - bow bow')\n",
    "\n",
    "class cat():\n",
    "    def talk(self):\n",
    "        print('cat talks - meow meow')\n",
    "\n",
    "def f(obj):\n",
    "    obj.talk()\n",
    "l = [duck(), dog(), cat()]\n",
    "for ob in l:\n",
    "    f(ob)\n",
    "    "
   ]
  },
  {
   "cell_type": "code",
   "execution_count": 67,
   "metadata": {},
   "outputs": [
    {
     "name": "stdout",
     "output_type": "stream",
     "text": [
      "animals talks --\n",
      "duck talks - quack quack\n"
     ]
    }
   ],
   "source": [
    "class animals():\n",
    "    def talk(self):\n",
    "        print('animals talks --')\n",
    "\n",
    "class duck(animals):\n",
    "    def talk(self):\n",
    "        print('duck talks - quack quack')\n",
    "\n",
    "class dog(animals):\n",
    "    def talk(self):\n",
    "        print('dog talks - bow bow')\n",
    "\n",
    "class cat(animals):\n",
    "    def talk(self):\n",
    "        print('cat talks - meow meow')\n",
    "\n",
    "obj1 = animals()\n",
    "obj1.talk()\n",
    "obj2 = duck()\n",
    "obj2.talk()\n",
    "#obj3 = dog()\n",
    "#obj4 = cat()\n"
   ]
  },
  {
   "cell_type": "code",
   "execution_count": 69,
   "metadata": {},
   "outputs": [],
   "source": [
    "from abc import *\n",
    "class Test:\n",
    "    @abstractmethod\n",
    "    def m1(self):\n",
    "        pass"
   ]
  },
  {
   "cell_type": "code",
   "execution_count": 70,
   "metadata": {},
   "outputs": [
    {
     "name": "stdout",
     "output_type": "stream",
     "text": [
      "Number of wheels of bus 8\n",
      "Number of wheels of Auto 3\n"
     ]
    }
   ],
   "source": [
    "# abstract method based on inheritance \n",
    "# one base class - two child classes derived from one base class\n",
    "from abc import *\n",
    "class Vehicle(ABC):\n",
    "    @abstractmethod\n",
    "    def noofwheels(self):\n",
    "        pass\n",
    "class Bus(Vehicle):\n",
    "    def noofwheels(self):\n",
    "        return 8\n",
    "class Auto(Vehicle):\n",
    "    def noofwheels(self):\n",
    "        return 3\n",
    "b = Bus()\n",
    "print('Number of wheels of bus', b.noofwheels())\n",
    "a = Auto()\n",
    "print('Number of wheels of Auto', a.noofwheels())"
   ]
  }
 ],
 "metadata": {
  "kernelspec": {
   "display_name": "Python 3",
   "language": "python",
   "name": "python3"
  },
  "language_info": {
   "codemirror_mode": {
    "name": "ipython",
    "version": 3
   },
   "file_extension": ".py",
   "mimetype": "text/x-python",
   "name": "python",
   "nbconvert_exporter": "python",
   "pygments_lexer": "ipython3",
   "version": "3.7.6"
  }
 },
 "nbformat": 4,
 "nbformat_minor": 4
}
