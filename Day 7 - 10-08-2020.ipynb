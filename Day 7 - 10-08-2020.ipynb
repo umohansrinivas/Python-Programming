{
 "cells": [
  {
   "cell_type": "code",
   "execution_count": null,
   "metadata": {},
   "outputs": [],
   "source": [
    "# https://regex101.com/  to check regular expressions"
   ]
  },
  {
   "cell_type": "code",
   "execution_count": null,
   "metadata": {},
   "outputs": [],
   "source": [
    "# File Handling Techniques\n",
    "# Functional Programming\n",
    "# File is a collection of records \n",
    "# to strore the data\n",
    "\n",
    "# Python File Operations\n",
    "    # open()\n",
    "        # Syntax: open(filename, mode)\n",
    "    # write()\n",
    "        # Syntax: write(filename, mode)\n",
    "    # read()\n",
    "        # Syntax: read(filename, mode)\n",
    "    # append()   # data added to file \n",
    "        # Syntax: append(filename, mode)\n",
    "# mode\n",
    "    # w - write mode\n",
    "    # r - read mode\n",
    "    # a - append mode"
   ]
  },
  {
   "cell_type": "code",
   "execution_count": 9,
   "metadata": {},
   "outputs": [
    {
     "name": "stdout",
     "output_type": "stream",
     "text": [
      " Volume in drive C has no label.\n",
      " Volume Serial Number is 001E-6FA8\n",
      "\n",
      " Directory of C:\\Users\\umohansrinivas\\Desktop\\python_fdp2\n",
      "\n"
     ]
    },
    {
     "name": "stderr",
     "output_type": "stream",
     "text": [
      "File Not Found\n"
     ]
    }
   ],
   "source": [
    "!dir('sample.txt')"
   ]
  },
  {
   "cell_type": "code",
   "execution_count": 18,
   "metadata": {},
   "outputs": [
    {
     "name": "stdout",
     "output_type": "stream",
     "text": [
      "Mohan SrinivasPython Programming Workshop FDPadd new data to file\n"
     ]
    }
   ],
   "source": [
    "# read data from file\n",
    "f = open('sample.txt','r')\n",
    "res = f.read()\n",
    "f.close()\n",
    "print(res)"
   ]
  },
  {
   "cell_type": "code",
   "execution_count": 12,
   "metadata": {},
   "outputs": [
    {
     "name": "stdout",
     "output_type": "stream",
     "text": [
      "written successfully data\n"
     ]
    }
   ],
   "source": [
    "# write data to file\n",
    "f = open('sample.txt','w')\n",
    "data = 'Python Programming Workshop FDP'\n",
    "f.write(data)\n",
    "f.close()\n",
    "print('written successfully data')\n",
    "\n"
   ]
  },
  {
   "cell_type": "code",
   "execution_count": 15,
   "metadata": {},
   "outputs": [
    {
     "name": "stdout",
     "output_type": "stream",
     "text": [
      "Enter data::Python Programming Workshop FDP\n",
      "Data appended successfully\n",
      "Mohan SrinivasPython Programming Workshop FDP\n"
     ]
    }
   ],
   "source": [
    "# append data\n",
    "data = input('Enter data::')\n",
    "f = open('sample.txt','a')\n",
    "f.write(data)\n",
    "f.close()\n",
    "print('Data appended successfully')\n",
    "\n",
    "# read data from file\n",
    "f = open('sample.txt','r')\n",
    "res = f.read()\n",
    "f.close()\n",
    "print(res)"
   ]
  },
  {
   "cell_type": "code",
   "execution_count": 17,
   "metadata": {},
   "outputs": [
    {
     "name": "stdout",
     "output_type": "stream",
     "text": [
      "Data added successfully\n"
     ]
    }
   ],
   "source": [
    "with open('sample.txt','a') as fp:\n",
    "    data = 'add new data to file'\n",
    "    fp.write(data)\n",
    "    print('Data added successfully')"
   ]
  },
  {
   "cell_type": "code",
   "execution_count": 19,
   "metadata": {},
   "outputs": [
    {
     "name": "stdout",
     "output_type": "stream",
     "text": [
      "<_io.TextIOWrapper name='sample.txt' mode='a' encoding='cp1252'>\n"
     ]
    }
   ],
   "source": [
    "print(fp)"
   ]
  },
  {
   "cell_type": "code",
   "execution_count": null,
   "metadata": {},
   "outputs": [],
   "source": [
    "### Functional Programming\n",
    "# functional programming decomposes a problem into set of inbuilt functions\n",
    "# inbuilt functions takes input and produces an output based on functions\n",
    "    # list, tuple, dict comprehensions\n",
    "    # map, lambda, filter\n"
   ]
  },
  {
   "cell_type": "code",
   "execution_count": 20,
   "metadata": {},
   "outputs": [
    {
     "name": "stdout",
     "output_type": "stream",
     "text": [
      "{0: 0, 1: 1, 2: 4, 3: 9, 4: 16, 5: 25, 6: 36, 7: 49, 8: 64, 9: 81}\n"
     ]
    }
   ],
   "source": [
    "# dict comprehension\n",
    "sqv = {x:x*x for x in range(10)}\n",
    "print(sqv)"
   ]
  },
  {
   "cell_type": "code",
   "execution_count": 25,
   "metadata": {},
   "outputs": [
    {
     "data": {
      "text/plain": [
       "[1, 2, 3, 4, 5, 6, 7, 8, 9, 10]"
      ]
     },
     "execution_count": 25,
     "metadata": {},
     "output_type": "execute_result"
    }
   ],
   "source": [
    "# list comprehension\n",
    "list((x for x in range(1,10+1)))"
   ]
  },
  {
   "cell_type": "code",
   "execution_count": 24,
   "metadata": {},
   "outputs": [
    {
     "data": {
      "text/plain": [
       "(0, 1, 2, 3, 4)"
      ]
     },
     "execution_count": 24,
     "metadata": {},
     "output_type": "execute_result"
    }
   ],
   "source": [
    "# tuple comprehension\n",
    "tuple((x for x in range(5)))"
   ]
  },
  {
   "cell_type": "code",
   "execution_count": 29,
   "metadata": {},
   "outputs": [
    {
     "data": {
      "text/plain": [
       "[2, 4, 6, 8, 10]"
      ]
     },
     "execution_count": 29,
     "metadata": {},
     "output_type": "execute_result"
    }
   ],
   "source": [
    "# list comprehension\n",
    "# print even\n",
    "list ( x for x in range(1,10+1) if (x%2==0))"
   ]
  },
  {
   "cell_type": "code",
   "execution_count": 30,
   "metadata": {},
   "outputs": [
    {
     "data": {
      "text/plain": [
       "[1, 3, 5, 7, 9]"
      ]
     },
     "execution_count": 30,
     "metadata": {},
     "output_type": "execute_result"
    }
   ],
   "source": [
    "# list comprehension\n",
    "print odd\n",
    "list ( x for x in range(1,10+1) if (x%2!=0))"
   ]
  },
  {
   "cell_type": "code",
   "execution_count": 31,
   "metadata": {},
   "outputs": [
    {
     "data": {
      "text/plain": [
       "(2, 4, 6, 8, 10)"
      ]
     },
     "execution_count": 31,
     "metadata": {},
     "output_type": "execute_result"
    }
   ],
   "source": [
    "# tuple comprehension\n",
    "# print even\n",
    "tuple( x for x in range(1,10+1) if (x%2==0))"
   ]
  },
  {
   "cell_type": "code",
   "execution_count": null,
   "metadata": {},
   "outputs": [],
   "source": [
    "# tuple comprehension\n",
    "# print odd\n",
    "tuple( x for x in range(1,10+1) if (x%2!=0))"
   ]
  },
  {
   "cell_type": "code",
   "execution_count": 34,
   "metadata": {},
   "outputs": [
    {
     "ename": "SyntaxError",
     "evalue": "invalid syntax (<ipython-input-34-773814bf70e7>, line 1)",
     "output_type": "error",
     "traceback": [
      "\u001b[1;36m  File \u001b[1;32m\"<ipython-input-34-773814bf70e7>\"\u001b[1;36m, line \u001b[1;32m1\u001b[0m\n\u001b[1;33m    list(i (i for i in range(0,10+1,2)) if(i==4) continue)\u001b[0m\n\u001b[1;37m                                                        ^\u001b[0m\n\u001b[1;31mSyntaxError\u001b[0m\u001b[1;31m:\u001b[0m invalid syntax\n"
     ]
    }
   ],
   "source": [
    "list(i (i for i in range(0,10+1,2)) if(i==4) continue)"
   ]
  },
  {
   "cell_type": "code",
   "execution_count": null,
   "metadata": {},
   "outputs": [],
   "source": [
    "# map() function\n",
    "# map() is an inbuilt function in python which maps all the elements in an iterable to a particular function\n",
    "\n",
    "# map(functionsname, iterable)"
   ]
  },
  {
   "cell_type": "code",
   "execution_count": 36,
   "metadata": {},
   "outputs": [
    {
     "data": {
      "text/plain": [
       "[1, 4, 9, 16, 25, 36, 49, 64, 81, 100]"
      ]
     },
     "execution_count": 36,
     "metadata": {},
     "output_type": "execute_result"
    }
   ],
   "source": [
    "def sqv(n):\n",
    "    return n ** 2\n",
    "\n",
    "list(map(sqv,range(1,10+1)))"
   ]
  },
  {
   "cell_type": "code",
   "execution_count": 41,
   "metadata": {},
   "outputs": [
    {
     "name": "stdout",
     "output_type": "stream",
     "text": [
      "Enter a line of numbers1 2 3 4 5 6 7 8 9 12\n"
     ]
    },
    {
     "data": {
      "text/plain": [
       "[1, 2, 3, 4, 5, 6, 7, 8, 9, 12]"
      ]
     },
     "execution_count": 41,
     "metadata": {},
     "output_type": "execute_result"
    }
   ],
   "source": [
    "# list of integers as input in a single line \n",
    "xsl = input('Enter a line of numbers')\n",
    "\n",
    "list(map(int, xsl.split()))\n",
    "tuple(map(int, xsl.split()))"
   ]
  },
  {
   "cell_type": "code",
   "execution_count": null,
   "metadata": {},
   "outputs": [],
   "source": [
    "# using lambda\n",
    "# create anonymous function in a single line\n",
    "\n",
    "\"\"\"\"\n",
    "var = lambda argument:statements\n",
    "z(arguments)\n",
    "\"\"\"\""
   ]
  },
  {
   "cell_type": "code",
   "execution_count": 43,
   "metadata": {},
   "outputs": [
    {
     "name": "stdout",
     "output_type": "stream",
     "text": [
      "Sum of two numbers ::\n"
     ]
    },
    {
     "data": {
      "text/plain": [
       "57"
      ]
     },
     "execution_count": 43,
     "metadata": {},
     "output_type": "execute_result"
    }
   ],
   "source": [
    "# sum of two numbers\n",
    "sum2nums = lambda x,y:x+y\n",
    "print('Sum of two numbers ::')\n",
    "sum2nums(12,45)"
   ]
  },
  {
   "cell_type": "code",
   "execution_count": 45,
   "metadata": {},
   "outputs": [
    {
     "name": "stdout",
     "output_type": "stream",
     "text": [
      "Even numbers ::\n"
     ]
    },
    {
     "data": {
      "text/plain": [
       "[True, False, True, False, True, False, True, False, True, False, True]"
      ]
     },
     "execution_count": 45,
     "metadata": {},
     "output_type": "execute_result"
    }
   ],
   "source": [
    "# even numbers\n",
    "evnums = lambda x:x%2==0\n",
    "print('Even numbers ::')\n",
    "[evnums(i) for i in range(10+1)]\n",
    "#list(map(evnums,range(1,10+1)))"
   ]
  },
  {
   "cell_type": "code",
   "execution_count": 49,
   "metadata": {},
   "outputs": [
    {
     "data": {
      "text/plain": [
       "['Avinash', 'Akash', 'Akesh']"
      ]
     },
     "execution_count": 49,
     "metadata": {},
     "output_type": "execute_result"
    }
   ],
   "source": [
    "# Filter function\n",
    "s = lambda start:start.startswith('A') and start.endswith('h')\n",
    "name = ['Avi','Avinash','Akash','Araadhya', 'Akesh']\n",
    "list(filter(s,name))"
   ]
  },
  {
   "cell_type": "code",
   "execution_count": null,
   "metadata": {},
   "outputs": [],
   "source": []
  }
 ],
 "metadata": {
  "kernelspec": {
   "display_name": "Python 3",
   "language": "python",
   "name": "python3"
  },
  "language_info": {
   "codemirror_mode": {
    "name": "ipython",
    "version": 3
   },
   "file_extension": ".py",
   "mimetype": "text/x-python",
   "name": "python",
   "nbconvert_exporter": "python",
   "pygments_lexer": "ipython3",
   "version": "3.7.6"
  }
 },
 "nbformat": 4,
 "nbformat_minor": 4
}
