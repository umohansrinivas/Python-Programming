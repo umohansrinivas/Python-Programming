{
 "cells": [
  {
   "cell_type": "code",
   "execution_count": 3,
   "metadata": {},
   "outputs": [
    {
     "name": "stdout",
     "output_type": "stream",
     "text": [
      "Enter your name:: mohan\n",
      "Enter course:: React JS\n",
      "Good morning mohan welcome to React JS\n"
     ]
    }
   ],
   "source": [
    "# .format example\n",
    "name = input('Enter your name:: ')\n",
    "course = input('Enter course:: ')\n",
    "print('Good morning {} welcome to {}'.format(name,course))"
   ]
  },
  {
   "cell_type": "code",
   "execution_count": 7,
   "metadata": {},
   "outputs": [
    {
     "name": "stdout",
     "output_type": "stream",
     "text": [
      "Enter the number:: 23456\n",
      "Reverses of the number 23456 is 65432\n"
     ]
    }
   ],
   "source": [
    "# reversing the number\n",
    "n = int(input('Enter the number:: '))\n",
    "n1 = n\n",
    "res = 0\n",
    "while n>0:\n",
    "    a = n%10\n",
    "    res = res*10 + a\n",
    "    n = n//10\n",
    "print('Reverses of the number {} is {}'.format(n1,res))"
   ]
  },
  {
   "cell_type": "code",
   "execution_count": 10,
   "metadata": {},
   "outputs": [
    {
     "name": "stdout",
     "output_type": "stream",
     "text": [
      "1\n",
      "2\n",
      "3\n",
      "4\n",
      "5\n"
     ]
    }
   ],
   "source": [
    "# break is used to interrupt the loop\n",
    "for i in range(1,11):\n",
    "    print(i)\n",
    "    if i==5:\n",
    "        break;"
   ]
  },
  {
   "cell_type": "code",
   "execution_count": 12,
   "metadata": {},
   "outputs": [
    {
     "name": "stdout",
     "output_type": "stream",
     "text": [
      "1 2 3 4 5 6 7 8 9 "
     ]
    }
   ],
   "source": [
    "i=1\n",
    "while True:\n",
    "    if i==10:\n",
    "        break\n",
    "    print(i,end=' ')\n",
    "    i += 1"
   ]
  },
  {
   "cell_type": "code",
   "execution_count": 14,
   "metadata": {},
   "outputs": [
    {
     "name": "stdout",
     "output_type": "stream",
     "text": [
      "1 2 3 4 6 7 8 9 10 "
     ]
    }
   ],
   "source": [
    "# continue is used for skipping the next iteration\n",
    "# break is used to interrupt the loop\n",
    "for i in range(1,11):\n",
    "    if i==5:\n",
    "        continue\n",
    "    print(i, end=' ')"
   ]
  },
  {
   "cell_type": "code",
   "execution_count": 15,
   "metadata": {},
   "outputs": [
    {
     "name": "stdout",
     "output_type": "stream",
     "text": [
      "Enter the number:: 12340\n",
      "04321\n"
     ]
    }
   ],
   "source": [
    "# reversing the number\n",
    "n = input('Enter the number:: ')\n",
    "rev = n [::-1]\n",
    "print(rev)"
   ]
  },
  {
   "cell_type": "markdown",
   "metadata": {},
   "source": [
    "### Functions\n",
    "- to perform a particular task\n",
    "- uses\n",
    "    - modularity, independence, reusability\n",
    "    - reduces the code size of the program\n",
    "- Types of functions\n",
    "    - pre defined functions\n",
    "        - already defined by the Python Libraries\n",
    "            Ex: print, sum, range, ... etc\n",
    "    - user defined functions\n",
    "        - based on arguments\n",
    "            - default arguments\n",
    "            - required arguments\n",
    "            - variable length arguments\n",
    "            - keyword arguments\n",
    "        - based on return value\n",
    "            - without arguments and without return value\n",
    "            - without arguments and with return value\n",
    "            - with arguments and without return value\n",
    "            - with arguments and with return value\n",
    "    - special functions\n",
    "        - comprehensions, lambda, map, iterater, filters"
   ]
  },
  {
   "cell_type": "code",
   "execution_count": null,
   "metadata": {},
   "outputs": [],
   "source": [
    "# 1. creating the function\n",
    "    # declaring the function\n",
    "        # by using the def keyword declaring the function\n",
    "            # def functionname(args):\n",
    "    # define the fuction\n",
    "        # the statements which perform the task\n",
    "            # statements\n",
    "# 2. calling the function\n",
    "    # by using the function name we can call the function\n"
   ]
  },
  {
   "cell_type": "code",
   "execution_count": 16,
   "metadata": {},
   "outputs": [
    {
     "name": "stdout",
     "output_type": "stream",
     "text": [
      "5\n"
     ]
    }
   ],
   "source": [
    "def Add(a,b):\n",
    "    print(a+b)\n",
    "\n",
    "Add(2,3)"
   ]
  },
  {
   "cell_type": "code",
   "execution_count": 24,
   "metadata": {},
   "outputs": [
    {
     "name": "stdout",
     "output_type": "stream",
     "text": [
      "Enter nameapssdc\n",
      "apssdcapssdcapssdcapssdcapssdc\n",
      "None\n"
     ]
    }
   ],
   "source": [
    "# without args and without return\n",
    "def withoutReturn():\n",
    "    a = input('Enter name')\n",
    "    print(5*a)\n",
    "\n",
    "#withoutReturn()\n",
    "name = withoutReturn()\n",
    "print(name)"
   ]
  },
  {
   "cell_type": "code",
   "execution_count": 27,
   "metadata": {},
   "outputs": [
    {
     "name": "stdout",
     "output_type": "stream",
     "text": [
      "Enter a value:: 12\n",
      "Enter b value:: 21\n",
      "(33, -9)\n"
     ]
    }
   ],
   "source": [
    "# without args and with return\n",
    "def withReturn():\n",
    "    a = int(input('Enter a value:: '))\n",
    "    b = int(input('Enter b value:: '))\n",
    "    c = a+b\n",
    "    d = a-b\n",
    "    return c,d\n",
    "\n",
    "val = withReturn()\n",
    "print(val)"
   ]
  },
  {
   "cell_type": "code",
   "execution_count": 8,
   "metadata": {},
   "outputs": [],
   "source": [
    "# without args and with return value\n",
    "def withReturn():\n",
    "    a = int(input('Enter a value:: '))\n",
    "    b = int(input('Enter b value:: '))\n",
    "    c = a+b\n",
    "    d = a-b\n",
    "    return c,d"
   ]
  },
  {
   "cell_type": "code",
   "execution_count": 9,
   "metadata": {},
   "outputs": [
    {
     "name": "stdout",
     "output_type": "stream",
     "text": [
      "Enter a value:: 12\n",
      "Enter b value:: 21\n",
      "(33, -9)\n"
     ]
    },
    {
     "data": {
      "text/plain": [
       "24"
      ]
     },
     "execution_count": 9,
     "metadata": {},
     "output_type": "execute_result"
    }
   ],
   "source": [
    "val = withReturn()\n",
    "print(val)\n",
    "sum(val)"
   ]
  },
  {
   "cell_type": "code",
   "execution_count": 11,
   "metadata": {},
   "outputs": [
    {
     "name": "stdout",
     "output_type": "stream",
     "text": [
      "Enter a value:: 12\n",
      "Enter b value:: 21\n",
      "12 21 33 -9 "
     ]
    }
   ],
   "source": [
    "# without args and with return value\n",
    "def withReturn():\n",
    "    a = int(input('Enter a value:: '))\n",
    "    b = int(input('Enter b value:: '))\n",
    "    c = a+b\n",
    "    d = a-b\n",
    "    return a,b,c,d\n",
    "\n",
    "val1,val2,val3,val4 = withReturn()\n",
    "print(val1,val2,val3,val4, end=' ')"
   ]
  },
  {
   "cell_type": "code",
   "execution_count": 14,
   "metadata": {},
   "outputs": [
    {
     "name": "stdout",
     "output_type": "stream",
     "text": [
      "10\n",
      "None\n"
     ]
    }
   ],
   "source": [
    "# with args and without return value\n",
    "def mul(a,b):\n",
    "    c = a*b\n",
    "    print(c)\n",
    "\n",
    "# mul(2,5)\n",
    "d = mul(2,5)\n",
    "print(d)"
   ]
  },
  {
   "cell_type": "code",
   "execution_count": 17,
   "metadata": {},
   "outputs": [
    {
     "name": "stdout",
     "output_type": "stream",
     "text": [
      "8 -2 15\n"
     ]
    }
   ],
   "source": [
    "# with args and with return value\n",
    "def wawr(a,b):\n",
    "    c = a+b\n",
    "    d = a-b\n",
    "    e = a*b\n",
    "    return c,d,e\n",
    "\n",
    "x,y,z = wawr(3,5)\n",
    "print(x,y,z)"
   ]
  },
  {
   "cell_type": "code",
   "execution_count": null,
   "metadata": {},
   "outputs": [],
   "source": [
    "# based on arguments\n",
    "# default arguments\n",
    "# range(init,final,diff)\n",
    "# range(10) - 10 is final value, and instial value is 0 default, diff value is 1 default\n",
    "# range(10,20) - 10 is initial value, 20 is final value and diff value is 1 default\n",
    "# range(10,20,4) - 10 init, 20 final, 4 diff\n",
    "# range() - init and diff are defult arguments\n",
    "# default arguments values are assigned at the time of function creation"
   ]
  },
  {
   "cell_type": "code",
   "execution_count": 20,
   "metadata": {},
   "outputs": [
    {
     "name": "stdout",
     "output_type": "stream",
     "text": [
      "30\n"
     ]
    }
   ],
   "source": [
    "def defaultArgs(a=10,b=20):\n",
    "    print(a+b)\n",
    "\n",
    "defaultArgs()\n",
    "# defaultArgs(30)\n",
    "# defaultArgs(30,40)\n",
    "# defaultArgs(,50)"
   ]
  },
  {
   "cell_type": "code",
   "execution_count": 22,
   "metadata": {},
   "outputs": [
    {
     "name": "stdout",
     "output_type": "stream",
     "text": [
      "45\n"
     ]
    }
   ],
   "source": [
    "def requiredArgs(a,b=10,c=20):\n",
    "    print(a+b+c)\n",
    "\n",
    "requiredArgs(15)\n",
    "    "
   ]
  },
  {
   "cell_type": "code",
   "execution_count": 23,
   "metadata": {},
   "outputs": [
    {
     "data": {
      "text/plain": [
       "(5, 10, ())"
      ]
     },
     "execution_count": 23,
     "metadata": {},
     "output_type": "execute_result"
    }
   ],
   "source": [
    "# variable length arguments\n",
    "def varArgs(a,b=10,*c):\n",
    "    return a,b,c\n",
    "\n",
    "varArgs(5)"
   ]
  },
  {
   "cell_type": "code",
   "execution_count": 26,
   "metadata": {},
   "outputs": [
    {
     "data": {
      "text/plain": [
       "(7, 8)"
      ]
     },
     "execution_count": 26,
     "metadata": {},
     "output_type": "execute_result"
    }
   ],
   "source": [
    "# variable length arguments\n",
    "def varArgs(*c):\n",
    "    return c\n",
    "\n",
    "# varArgs()\n",
    "# varArgs(5)\n",
    "varArgs(7,8)"
   ]
  },
  {
   "cell_type": "code",
   "execution_count": 27,
   "metadata": {},
   "outputs": [
    {
     "data": {
      "text/plain": [
       "15"
      ]
     },
     "execution_count": 27,
     "metadata": {},
     "output_type": "execute_result"
    }
   ],
   "source": [
    "# variable length arguments\n",
    "def varArgs(*c):\n",
    "    return sum(c)\n",
    "\n",
    "# varArgs()\n",
    "# varArgs(5)\n",
    "varArgs(7,8)"
   ]
  },
  {
   "cell_type": "code",
   "execution_count": 29,
   "metadata": {},
   "outputs": [
    {
     "name": "stdout",
     "output_type": "stream",
     "text": [
      "Hell mohan welcome to apssdc\n"
     ]
    }
   ],
   "source": [
    "# keywords arguments\n",
    "def key(name,company):\n",
    "    print('Hello {} welcome to {}'.format(name,company))\n",
    "\n",
    "key(company='apssdc', name='mohan')"
   ]
  },
  {
   "cell_type": "code",
   "execution_count": 30,
   "metadata": {},
   "outputs": [
    {
     "data": {
      "text/plain": [
       "{'name': ['mohan', 'srinivas']}"
      ]
     },
     "execution_count": 30,
     "metadata": {},
     "output_type": "execute_result"
    }
   ],
   "source": [
    "# keywords arguments\n",
    "def key2(**name):\n",
    "    return (name)\n",
    "\n",
    "key2(name=['mohan','srinivas'])\n",
    "#print('Hello {} welcome to {}'.format(name,company))"
   ]
  },
  {
   "cell_type": "code",
   "execution_count": 2,
   "metadata": {},
   "outputs": [
    {
     "ename": "SyntaxError",
     "evalue": "invalid syntax (<ipython-input-2-925ae3f63083>, line 2)",
     "output_type": "error",
     "traceback": [
      "\u001b[1;36m  File \u001b[1;32m\"<ipython-input-2-925ae3f63083>\"\u001b[1;36m, line \u001b[1;32m2\u001b[0m\n\u001b[1;33m    def key3(**name1, **company1):\u001b[0m\n\u001b[1;37m                       ^\u001b[0m\n\u001b[1;31mSyntaxError\u001b[0m\u001b[1;31m:\u001b[0m invalid syntax\n"
     ]
    }
   ],
   "source": [
    "# keywords arguments\n",
    "def key3(**name1, **company1):\n",
    "    print('Hello {} welcome to {}'.format(name1,company1))\n",
    "\n",
    "key3(name1=['mohan','srinivas'],company1=['apssdc1','apssdc2'])"
   ]
  },
  {
   "cell_type": "code",
   "execution_count": null,
   "metadata": {},
   "outputs": [],
   "source": []
  },
  {
   "cell_type": "code",
   "execution_count": null,
   "metadata": {},
   "outputs": [],
   "source": []
  }
 ],
 "metadata": {
  "kernelspec": {
   "display_name": "Python 3",
   "language": "python",
   "name": "python3"
  },
  "language_info": {
   "codemirror_mode": {
    "name": "ipython",
    "version": 3
   },
   "file_extension": ".py",
   "mimetype": "text/x-python",
   "name": "python",
   "nbconvert_exporter": "python",
   "pygments_lexer": "ipython3",
   "version": "3.7.6"
  }
 },
 "nbformat": 4,
 "nbformat_minor": 4
}
