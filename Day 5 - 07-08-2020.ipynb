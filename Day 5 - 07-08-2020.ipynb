{
 "cells": [
  {
   "cell_type": "code",
   "execution_count": 1,
   "metadata": {},
   "outputs": [],
   "source": [
    "import numpy as np"
   ]
  },
  {
   "cell_type": "code",
   "execution_count": null,
   "metadata": {},
   "outputs": [],
   "source": []
  },
  {
   "cell_type": "code",
   "execution_count": null,
   "metadata": {},
   "outputs": [],
   "source": [
    "s1 = \"banana 30 apple 99 grapes 63\"\n",
    "lst = s1.split(\" \")\n",
    "sum = 0\n",
    "for i in range(0, len(lst)):\n",
    "if lst[i].isdigit():\n",
    "sum = sum + int(lst[i])"
   ]
  },
  {
   "cell_type": "code",
   "execution_count": 3,
   "metadata": {},
   "outputs": [
    {
     "name": "stdout",
     "output_type": "stream",
     "text": [
      "[5, 6, 7, 3, 2, 9]\n",
      "[9, 2, 3, 7, 6, 5]\n"
     ]
    }
   ],
   "source": [
    "l = [5,6,7,3,2,9]\n",
    "print(l)\n",
    "l.reverse()\n",
    "print(l)"
   ]
  },
  {
   "cell_type": "code",
   "execution_count": null,
   "metadata": {},
   "outputs": [],
   "source": [
    "# Python Collections\n",
    "# List\n",
    "# Tuple\n",
    "    # tuple()\n",
    "    # immutable - can not change\n",
    "    # t1 = ()\n",
    "    # print(type(t1))\n",
    "    # print(t1)\n",
    "    # Methods\n",
    "        #\n",
    "# Dictionary\n",
    "# Sets"
   ]
  },
  {
   "cell_type": "code",
   "execution_count": 4,
   "metadata": {},
   "outputs": [
    {
     "data": {
      "text/plain": [
       "['__add__',\n",
       " '__class__',\n",
       " '__contains__',\n",
       " '__delattr__',\n",
       " '__dir__',\n",
       " '__doc__',\n",
       " '__eq__',\n",
       " '__format__',\n",
       " '__ge__',\n",
       " '__getattribute__',\n",
       " '__getitem__',\n",
       " '__getnewargs__',\n",
       " '__gt__',\n",
       " '__hash__',\n",
       " '__init__',\n",
       " '__init_subclass__',\n",
       " '__iter__',\n",
       " '__le__',\n",
       " '__len__',\n",
       " '__lt__',\n",
       " '__mul__',\n",
       " '__ne__',\n",
       " '__new__',\n",
       " '__reduce__',\n",
       " '__reduce_ex__',\n",
       " '__repr__',\n",
       " '__rmul__',\n",
       " '__setattr__',\n",
       " '__sizeof__',\n",
       " '__str__',\n",
       " '__subclasshook__',\n",
       " 'count',\n",
       " 'index']"
      ]
     },
     "execution_count": 4,
     "metadata": {},
     "output_type": "execute_result"
    }
   ],
   "source": [
    "dir(tuple)"
   ]
  },
  {
   "cell_type": "code",
   "execution_count": 13,
   "metadata": {},
   "outputs": [
    {
     "name": "stdout",
     "output_type": "stream",
     "text": [
      "('Name', 'Age', 'Email', 'Name')\n",
      "Name\n",
      "('Age', 'Email', 'Name')\n",
      "('Name', 'Email', 'Age', 'Name')\n",
      "2\n",
      "1\n",
      "0\n",
      "2\n"
     ]
    }
   ],
   "source": [
    "a = ('Name', 'Age', 'Email', 'Name')\n",
    "print(a)\n",
    "print(a[0])\n",
    "print(a[1:])\n",
    "print(a[::-1])\n",
    "print(a.count('Name'))\n",
    "print(a.count('Age'))\n",
    "print(a.index('Name'))\n",
    "print(a.index('Email'))"
   ]
  },
  {
   "cell_type": "code",
   "execution_count": 14,
   "metadata": {},
   "outputs": [
    {
     "data": {
      "text/plain": [
       "2"
      ]
     },
     "execution_count": 14,
     "metadata": {},
     "output_type": "execute_result"
    }
   ],
   "source": [
    "a.index('Email',1)"
   ]
  },
  {
   "cell_type": "code",
   "execution_count": 17,
   "metadata": {},
   "outputs": [
    {
     "name": "stdout",
     "output_type": "stream",
     "text": [
      "('Name', 'Age', 'Email', 'phone')\n",
      "<class 'tuple'>\n",
      "['Name', 'Age', 'Email', 'phone']\n",
      "<class 'list'>\n",
      "('Name', 'Age', 'Email', 'mobile')\n"
     ]
    }
   ],
   "source": [
    "atup = ('Name', 'Age', 'Email', 'phone')\n",
    "print(atup)\n",
    "print(type(atup))\n",
    "\n",
    "alst = list(atup)\n",
    "print(alst)\n",
    "print(type(alst))\n",
    "alst[3] = 'mobile'\n",
    "atup = tuple(alst)\n",
    "print(atup)"
   ]
  },
  {
   "cell_type": "code",
   "execution_count": null,
   "metadata": {},
   "outputs": [],
   "source": []
  },
  {
   "cell_type": "code",
   "execution_count": null,
   "metadata": {},
   "outputs": [],
   "source": []
  },
  {
   "cell_type": "code",
   "execution_count": null,
   "metadata": {},
   "outputs": [],
   "source": []
  },
  {
   "cell_type": "code",
   "execution_count": null,
   "metadata": {},
   "outputs": [],
   "source": []
  },
  {
   "cell_type": "code",
   "execution_count": null,
   "metadata": {},
   "outputs": [],
   "source": []
  },
  {
   "cell_type": "code",
   "execution_count": 18,
   "metadata": {},
   "outputs": [
    {
     "data": {
      "text/plain": [
       "['__class__',\n",
       " '__contains__',\n",
       " '__delattr__',\n",
       " '__delitem__',\n",
       " '__dir__',\n",
       " '__doc__',\n",
       " '__eq__',\n",
       " '__format__',\n",
       " '__ge__',\n",
       " '__getattribute__',\n",
       " '__getitem__',\n",
       " '__gt__',\n",
       " '__hash__',\n",
       " '__init__',\n",
       " '__init_subclass__',\n",
       " '__iter__',\n",
       " '__le__',\n",
       " '__len__',\n",
       " '__lt__',\n",
       " '__ne__',\n",
       " '__new__',\n",
       " '__reduce__',\n",
       " '__reduce_ex__',\n",
       " '__repr__',\n",
       " '__setattr__',\n",
       " '__setitem__',\n",
       " '__sizeof__',\n",
       " '__str__',\n",
       " '__subclasshook__',\n",
       " 'clear',\n",
       " 'copy',\n",
       " 'fromkeys',\n",
       " 'get',\n",
       " 'items',\n",
       " 'keys',\n",
       " 'pop',\n",
       " 'popitem',\n",
       " 'setdefault',\n",
       " 'update',\n",
       " 'values']"
      ]
     },
     "execution_count": 18,
     "metadata": {},
     "output_type": "execute_result"
    }
   ],
   "source": [
    "# Dictionary\n",
    "# syntax: {}\n",
    "dir(dict)"
   ]
  },
  {
   "cell_type": "code",
   "execution_count": 38,
   "metadata": {},
   "outputs": [
    {
     "name": "stdout",
     "output_type": "stream",
     "text": [
      "{'name': 'mohan', 'empid': 3844, 'compant': 'CET', 'location': 'Vijayawada'}\n",
      "dict_items([('name', 'mohan'), ('empid', 3844), ('compant', 'CET'), ('location', 'Vijayawada')])\n",
      "dict_keys(['name', 'empid', 'compant', 'location'])\n"
     ]
    }
   ],
   "source": [
    "pd = {'name':'mohan', 'empid':3844,'compant':'CET','location':'Vijayawada'}\n",
    "print(pd)\n",
    "print(pd.items())\n",
    "print(pd.keys())\n",
    "# print(pd.get(pd.keys()))"
   ]
  },
  {
   "cell_type": "code",
   "execution_count": 27,
   "metadata": {},
   "outputs": [
    {
     "name": "stdout",
     "output_type": "stream",
     "text": [
      "{4: 345, 6: 124, 5: 674} {1: 'one', 2: 'two', 3: 'three'}\n",
      "{1: 'one', 2: 'two', 3: 'three'} {1: 'one', 2: 'two', 3: 'three'}\n"
     ]
    }
   ],
   "source": [
    "# copy() - method returns a shallow copy of the Dictionary\n",
    "# Synatx: dict.copy()\n",
    "da = {4:345,6:124,5:674}\n",
    "db = {1:'one',2:'two',3:'three'}\n",
    "print(da,db)\n",
    "da = db.copy()\n",
    "print(da,db)"
   ]
  },
  {
   "cell_type": "code",
   "execution_count": 28,
   "metadata": {},
   "outputs": [
    {
     "name": "stdout",
     "output_type": "stream",
     "text": [
      "{}\n",
      "{'name': 'mohan', 'empid': 3844, 'compant': 'CET', 'location': 'Vijayawada'}\n",
      "{'name': 'mohan', 'empid': 3844, 'compant': 'CET', 'location': 'Vijayawada'}\n",
      "{'name': 'mohan', 'empid': 3844, 'compant': 'CET', 'location': 'Vijayawada'}\n"
     ]
    }
   ],
   "source": [
    "d1 = {}\n",
    "d2 = {'name':'mohan', 'empid':3844,'compant':'CET','location':'Vijayawada'}\n",
    "print(d1)\n",
    "print(d2)\n",
    "d1 = d2.copy()\n",
    "print(d1)\n",
    "print(d2)"
   ]
  },
  {
   "cell_type": "code",
   "execution_count": 29,
   "metadata": {},
   "outputs": [
    {
     "name": "stdout",
     "output_type": "stream",
     "text": [
      "{'name': 'mohan', 'empid': 3844}\n",
      "{'name': 'mohan', 'empid': 3844}\n"
     ]
    }
   ],
   "source": [
    "dx = {'name':'mohan', 'empid':3844}\n",
    "dy = dx\n",
    "print(dx)\n",
    "print(dy)"
   ]
  },
  {
   "cell_type": "code",
   "execution_count": 30,
   "metadata": {},
   "outputs": [
    {
     "name": "stdout",
     "output_type": "stream",
     "text": [
      "{'name': 'mohan', 'empid': 3844}\n",
      "{'company': 'CET', 'location': 'Vijayawada'}\n",
      "{'name': 'mohan', 'empid': 3844, 'company': 'CET', 'location': 'Vijayawada'}\n",
      "{'company': 'CET', 'location': 'Vijayawada'}\n"
     ]
    }
   ],
   "source": [
    "# update() - method  dict.update([others])\n",
    "dx1 = {'name':'mohan', 'empid':3844}\n",
    "dx2 = {'company':'CET', 'location':'Vijayawada'}\n",
    "print(dx1)\n",
    "print(dx2)\n",
    "dx1.update(dx2)\n",
    "print(dx1)\n",
    "print(dx2)"
   ]
  },
  {
   "cell_type": "code",
   "execution_count": 32,
   "metadata": {},
   "outputs": [
    {
     "name": "stdout",
     "output_type": "stream",
     "text": [
      "{'name': 'mohan', 'empid': 3844, 'company': None}\n"
     ]
    }
   ],
   "source": [
    "# setdefault()\n",
    "dx6 = {'name':'mohan', 'empid':3844}\n",
    "dx6.setdefault('company',None)\n",
    "print(dx6)"
   ]
  },
  {
   "cell_type": "code",
   "execution_count": 39,
   "metadata": {},
   "outputs": [
    {
     "name": "stdout",
     "output_type": "stream",
     "text": [
      "{}\n",
      "Enter a number::4\n",
      "{0: 0, 1: 1, 2: 4, 3: 9}\n"
     ]
    }
   ],
   "source": [
    "# square value using dict concept\n",
    "# sample output {0:0,1:1,2:4,3:9}\n",
    "dsqv = {}\n",
    "print(dsqv)\n",
    "n = int(input('Enter a number::'))\n",
    "for i in range(n):\n",
    "    dsqv[i]=i*i\n",
    "print(dsqv)"
   ]
  },
  {
   "cell_type": "code",
   "execution_count": 36,
   "metadata": {},
   "outputs": [
    {
     "data": {
      "text/plain": [
       "dict_values(['one', 'two', 'three'])"
      ]
     },
     "execution_count": 36,
     "metadata": {},
     "output_type": "execute_result"
    }
   ],
   "source": [
    "px = {1:'one',2:'two',3:'three'}\n",
    "px.values()"
   ]
  },
  {
   "cell_type": "code",
   "execution_count": null,
   "metadata": {},
   "outputs": [],
   "source": [
    "dsqv = {}\n",
    "# dsqv = dict()\n",
    "print(dsqv)\n",
    "n = int(input('Enter a number::'))\n",
    "for i in range(n):\n",
    "    temp = {i:i*i}\n",
    "    dsqv.update(temp)\n",
    "    temp.clear()\n",
    "    #dsqv[i]=i*i\n",
    "print(dsqv)"
   ]
  },
  {
   "cell_type": "code",
   "execution_count": 43,
   "metadata": {},
   "outputs": [
    {
     "name": "stdout",
     "output_type": "stream",
     "text": [
      "Enter a number::5\n",
      "{0: 0, 1: 1, 2: 4, 3: 9, 4: 16}\n"
     ]
    }
   ],
   "source": [
    "# dict comprehension\n",
    "n = int(input('Enter a number::'))\n",
    "dsqv1 = {i:i*i for i in range(n)}\n",
    "print(dsqv1)"
   ]
  },
  {
   "cell_type": "code",
   "execution_count": 52,
   "metadata": {},
   "outputs": [
    {
     "name": "stdout",
     "output_type": "stream",
     "text": [
      "Enter a number::15\n",
      "{1: 1, 3: 9, 5: 25, 7: 49, 9: 81, 11: 121, 13: 169}\n"
     ]
    }
   ],
   "source": [
    "n = int(input('Enter a number::'))\n",
    "dsqv1 = {0:0}\n",
    "dsqv1 = {i:i*i for i in range(n) if (i%2!=0)}\n",
    "print(dsqv1)"
   ]
  },
  {
   "cell_type": "code",
   "execution_count": 55,
   "metadata": {},
   "outputs": [
    {
     "name": "stdout",
     "output_type": "stream",
     "text": [
      "Enter a number::15\n",
      "{1: 1, 3: 9, 5: 25, 7: 49, 9: 81, 11: 121, 13: 169}\n"
     ]
    }
   ],
   "source": [
    "n = int(input('Enter a number::'))\n",
    "dsqv2 = {i:i*i for i in range(1,n,2)}\n",
    "print(dsqv2)"
   ]
  },
  {
   "cell_type": "code",
   "execution_count": 65,
   "metadata": {},
   "outputs": [
    {
     "name": "stdout",
     "output_type": "stream",
     "text": [
      "mohan\n",
      "<class 'str'>\n",
      "srinivas\n",
      "<class 'str'>\n",
      "ramesh\n",
      "<class 'str'>\n",
      "prasad\n",
      "<class 'str'>\n",
      "14\n",
      "<class 'int'>\n",
      "29\n",
      "<class 'int'>\n",
      "26\n",
      "<class 'int'>\n",
      "22\n",
      "<class 'int'>\n",
      "[14, 29, 26, 22] ['mohan', 'srinivas', 'ramesh', 'prasad']\n"
     ]
    }
   ],
   "source": [
    "# List task\n",
    "alst = ['mohan','srinivas','ramesh','prasad',14,29,26,22]\n",
    "l1 = list()\n",
    "l2 = list()\n",
    "for i in alst:\n",
    "    print(i)\n",
    "    print(type(i))\n",
    "    if isinstance(i, int) == True:\n",
    "        l1.append(i)\n",
    "    else:\n",
    "        l2.append(i)\n",
    "print(l1,l2)"
   ]
  },
  {
   "cell_type": "code",
   "execution_count": 64,
   "metadata": {},
   "outputs": [
    {
     "name": "stdout",
     "output_type": "stream",
     "text": [
      "['__add__', '__class__', '__contains__', '__delattr__', '__dir__', '__doc__', '__eq__', '__format__', '__ge__', '__getattribute__', '__getitem__', '__getnewargs__', '__gt__', '__hash__', '__init__', '__init_subclass__', '__iter__', '__le__', '__len__', '__lt__', '__mod__', '__mul__', '__ne__', '__new__', '__reduce__', '__reduce_ex__', '__repr__', '__rmod__', '__rmul__', '__setattr__', '__sizeof__', '__str__', '__subclasshook__', 'capitalize', 'casefold', 'center', 'count', 'encode', 'endswith', 'expandtabs', 'find', 'format', 'format_map', 'index', 'isalnum', 'isalpha', 'isascii', 'isdecimal', 'isdigit', 'isidentifier', 'islower', 'isnumeric', 'isprintable', 'isspace', 'istitle', 'isupper', 'join', 'ljust', 'lower', 'lstrip', 'maketrans', 'partition', 'replace', 'rfind', 'rindex', 'rjust', 'rpartition', 'rsplit', 'rstrip', 'split', 'splitlines', 'startswith', 'strip', 'swapcase', 'title', 'translate', 'upper', 'zfill'] "
     ]
    }
   ],
   "source": [
    "print(dir(str),end=' ')\n",
    "#dir(list)"
   ]
  },
  {
   "cell_type": "code",
   "execution_count": 68,
   "metadata": {},
   "outputs": [
    {
     "name": "stdout",
     "output_type": "stream",
     "text": [
      "['mohan', 'srinivas', 'ramesh', 'prasad'] [14, 29, 26, 22]\n",
      "91\n"
     ]
    }
   ],
   "source": [
    "alst = ['mohan','srinivas','ramesh','prasad',14,29,26,22]\n",
    "names = []\n",
    "numbers = []\n",
    "for i in alst:\n",
    "    if type(i) == int:\n",
    "        numbers.append(i)\n",
    "    else:\n",
    "        names.append(i)\n",
    "print(names,numbers)\n",
    "print(sum(numbers))"
   ]
  },
  {
   "cell_type": "code",
   "execution_count": 69,
   "metadata": {},
   "outputs": [
    {
     "name": "stdout",
     "output_type": "stream",
     "text": [
      "['mohan', 'srinivas', 'ramesh', 'prasad'] [14, 29, 26, 22]\n",
      "91\n"
     ]
    }
   ],
   "source": [
    "alst = ['mohan','srinivas','ramesh','prasad',14,29,26,22]\n",
    "names = []\n",
    "numbers = []\n",
    "for i in alst:\n",
    "    if str(i).isnumeric():\n",
    "        numbers.append(i)\n",
    "    else:\n",
    "        names.append(i)\n",
    "print(names,numbers)\n",
    "print(sum(numbers))"
   ]
  },
  {
   "cell_type": "code",
   "execution_count": 83,
   "metadata": {},
   "outputs": [
    {
     "name": "stdout",
     "output_type": "stream",
     "text": [
      "['mohan', 'srinivas', 'ramesh', 'prasad']\n",
      "srinivas\n"
     ]
    }
   ],
   "source": [
    "# write program that gives longest string\n",
    "alst3 = ['mohan','srinivas','ramesh','prasad']\n",
    "alst4 = sorted(alst3,reverse=True)\n",
    "print(alst3)\n",
    "print(alst4[0])\n",
    "#print()"
   ]
  },
  {
   "cell_type": "code",
   "execution_count": 86,
   "metadata": {},
   "outputs": [
    {
     "name": "stdout",
     "output_type": "stream",
     "text": [
      "srinivas\n",
      "ramesh anna\n"
     ]
    }
   ],
   "source": [
    "alst3 = ['mohan','srinivas','ramesh anna','prasad']\n",
    "print(max(alst3))\n",
    "print(max(alst3,key=len))"
   ]
  },
  {
   "cell_type": "code",
   "execution_count": null,
   "metadata": {},
   "outputs": [],
   "source": []
  }
 ],
 "metadata": {
  "kernelspec": {
   "display_name": "Python 3",
   "language": "python",
   "name": "python3"
  },
  "language_info": {
   "codemirror_mode": {
    "name": "ipython",
    "version": 3
   },
   "file_extension": ".py",
   "mimetype": "text/x-python",
   "name": "python",
   "nbconvert_exporter": "python",
   "pygments_lexer": "ipython3",
   "version": "3.7.6"
  }
 },
 "nbformat": 4,
 "nbformat_minor": 4
}
