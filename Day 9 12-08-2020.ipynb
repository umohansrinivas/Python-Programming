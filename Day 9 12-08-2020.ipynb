{
 "cells": [
  {
   "cell_type": "code",
   "execution_count": null,
   "metadata": {},
   "outputs": [],
   "source": [
    "## Type of Packages and Modules\n",
    "# module is .py file\n",
    "# use import modulename"
   ]
  },
  {
   "cell_type": "code",
   "execution_count": 14,
   "metadata": {},
   "outputs": [],
   "source": [
    "import simple"
   ]
  },
  {
   "cell_type": "code",
   "execution_count": 15,
   "metadata": {},
   "outputs": [
    {
     "data": {
      "text/plain": [
       "['__builtins__',\n",
       " '__cached__',\n",
       " '__doc__',\n",
       " '__file__',\n",
       " '__loader__',\n",
       " '__name__',\n",
       " '__package__',\n",
       " '__spec__',\n",
       " 'iseven']"
      ]
     },
     "execution_count": 15,
     "metadata": {},
     "output_type": "execute_result"
    }
   ],
   "source": [
    "dir(simple)"
   ]
  },
  {
   "cell_type": "code",
   "execution_count": 11,
   "metadata": {},
   "outputs": [
    {
     "name": "stdout",
     "output_type": "stream",
     "text": [
      "10 12 14 16 18 20 22 24 26 28 30 32 34 36 38 40 42 44 46 48 50 52 54 56 58 60 62 64 66 68 70 72 74 76 78 80 82 84 86 88 90 92 94 96 98 100 "
     ]
    }
   ],
   "source": [
    "simple.iseven(10,101)"
   ]
  },
  {
   "cell_type": "code",
   "execution_count": 1,
   "metadata": {},
   "outputs": [],
   "source": [
    "import simple"
   ]
  },
  {
   "cell_type": "code",
   "execution_count": 2,
   "metadata": {},
   "outputs": [
    {
     "data": {
      "text/plain": [
       "['__builtins__',\n",
       " '__cached__',\n",
       " '__doc__',\n",
       " '__file__',\n",
       " '__loader__',\n",
       " '__name__',\n",
       " '__package__',\n",
       " '__spec__',\n",
       " 'add',\n",
       " 'iseven',\n",
       " 'isodd',\n",
       " 'sub']"
      ]
     },
     "execution_count": 2,
     "metadata": {},
     "output_type": "execute_result"
    }
   ],
   "source": [
    "dir(simple)"
   ]
  },
  {
   "cell_type": "code",
   "execution_count": 3,
   "metadata": {},
   "outputs": [
    {
     "name": "stdout",
     "output_type": "stream",
     "text": [
      "1 3 5 7 9 "
     ]
    }
   ],
   "source": [
    "simple.isodd()"
   ]
  },
  {
   "cell_type": "code",
   "execution_count": 4,
   "metadata": {},
   "outputs": [
    {
     "name": "stdout",
     "output_type": "stream",
     "text": [
      "5 7 9 11 13 15 17 19 "
     ]
    }
   ],
   "source": [
    "simple.isodd(5,20)"
   ]
  },
  {
   "cell_type": "code",
   "execution_count": null,
   "metadata": {},
   "outputs": [],
   "source": []
  },
  {
   "cell_type": "code",
   "execution_count": 12,
   "metadata": {},
   "outputs": [],
   "source": [
    "from mypackages import math2 as m2\n",
    "from mypackages import math3 as m3"
   ]
  },
  {
   "cell_type": "code",
   "execution_count": 14,
   "metadata": {},
   "outputs": [
    {
     "data": {
      "text/plain": [
       "['__builtins__',\n",
       " '__cached__',\n",
       " '__doc__',\n",
       " '__file__',\n",
       " '__loader__',\n",
       " '__name__',\n",
       " '__package__',\n",
       " '__spec__',\n",
       " 'iseven',\n",
       " 'isodd']"
      ]
     },
     "execution_count": 14,
     "metadata": {},
     "output_type": "execute_result"
    }
   ],
   "source": [
    "dir(m2)"
   ]
  },
  {
   "cell_type": "code",
   "execution_count": 15,
   "metadata": {},
   "outputs": [
    {
     "data": {
      "text/plain": [
       "['__builtins__',\n",
       " '__cached__',\n",
       " '__doc__',\n",
       " '__file__',\n",
       " '__loader__',\n",
       " '__name__',\n",
       " '__package__',\n",
       " '__spec__',\n",
       " 'add',\n",
       " 'sub']"
      ]
     },
     "execution_count": 15,
     "metadata": {},
     "output_type": "execute_result"
    }
   ],
   "source": [
    "dir(m3)"
   ]
  },
  {
   "cell_type": "code",
   "execution_count": 16,
   "metadata": {},
   "outputs": [
    {
     "name": "stdout",
     "output_type": "stream",
     "text": [
      "60\n",
      "-25\n"
     ]
    }
   ],
   "source": [
    "print(m3.add(20,40))\n",
    "print(m3.sub(30,55))"
   ]
  },
  {
   "cell_type": "code",
   "execution_count": 18,
   "metadata": {},
   "outputs": [
    {
     "name": "stdout",
     "output_type": "stream",
     "text": [
      "20 22 24 26 28 30 32 34 36 38 40 42 44 46 48 "
     ]
    }
   ],
   "source": [
    "m2.iseven(20,50)"
   ]
  },
  {
   "cell_type": "code",
   "execution_count": 19,
   "metadata": {},
   "outputs": [
    {
     "name": "stdout",
     "output_type": "stream",
     "text": [
      "11 13 15 17 19 21 23 25 27 29 31 33 35 37 39 41 43 45 47 49 51 53 55 57 59 "
     ]
    }
   ],
   "source": [
    "m2.isodd(10,60)"
   ]
  },
  {
   "cell_type": "code",
   "execution_count": 1,
   "metadata": {},
   "outputs": [],
   "source": [
    "from mypackages import prime as pr"
   ]
  },
  {
   "cell_type": "code",
   "execution_count": 2,
   "metadata": {},
   "outputs": [
    {
     "data": {
      "text/plain": [
       "['__builtins__',\n",
       " '__cached__',\n",
       " '__doc__',\n",
       " '__file__',\n",
       " '__loader__',\n",
       " '__name__',\n",
       " '__package__',\n",
       " '__spec__',\n",
       " 'isprime',\n",
       " 'printPrime']"
      ]
     },
     "execution_count": 2,
     "metadata": {},
     "output_type": "execute_result"
    }
   ],
   "source": [
    "dir(pr)"
   ]
  },
  {
   "cell_type": "code",
   "execution_count": 3,
   "metadata": {},
   "outputs": [
    {
     "data": {
      "text/plain": [
       "False"
      ]
     },
     "execution_count": 3,
     "metadata": {},
     "output_type": "execute_result"
    }
   ],
   "source": [
    "pr.isprime(10)"
   ]
  },
  {
   "cell_type": "code",
   "execution_count": 4,
   "metadata": {},
   "outputs": [
    {
     "data": {
      "text/plain": [
       "True"
      ]
     },
     "execution_count": 4,
     "metadata": {},
     "output_type": "execute_result"
    }
   ],
   "source": [
    "pr.isprime(7)"
   ]
  },
  {
   "cell_type": "code",
   "execution_count": 5,
   "metadata": {},
   "outputs": [
    {
     "name": "stdout",
     "output_type": "stream",
     "text": [
      "3 5 7 11 13 17 19 "
     ]
    }
   ],
   "source": [
    "pr.printPrime(3,19)"
   ]
  },
  {
   "cell_type": "code",
   "execution_count": null,
   "metadata": {},
   "outputs": [],
   "source": [
    "#Tasks2 : Using Functions\n",
    "#1.Create a contact dict.Then add the contact details\n",
    "#like name and number to dict\n",
    "#note:if name in dict disply name already exist\n",
    "#2.Update the Contact which present in the dict\n",
    "#note:if not name in dict disply name not exist\n",
    "#3.Delete the contact name and number from dict\n",
    "#note:if not name in dict disply name not exist\n",
    "#4.List out the all contacts from dict\n",
    "#Note:if contacts is empty disply \"empty list\""
   ]
  },
  {
   "cell_type": "code",
   "execution_count": 24,
   "metadata": {},
   "outputs": [],
   "source": [
    "contacts = {}"
   ]
  },
  {
   "cell_type": "code",
   "execution_count": 25,
   "metadata": {},
   "outputs": [],
   "source": [
    "def addContact(name, number):\n",
    "    if name not in contacts:\n",
    "        contacts[name] = number\n",
    "        print('contact added successfully')\n",
    "    else:\n",
    "        print('contact is already exists')\n",
    "\n",
    "def updateContact(name,number):\n",
    "    if name in contacts:\n",
    "        contacts[name] = number\n",
    "        print('contact number upddated successfully')\n",
    "    else:\n",
    "        print('contact',name,' is not present to update')\n",
    "\n",
    "def deleteContact(name):\n",
    "    if name in contacts:\n",
    "        contacts.pop(name)\n",
    "        print('contact name and number deleted successfully')\n",
    "    else:\n",
    "        print('contact',name,' is not present to delete')\n",
    "\n",
    "def displayAllContacts(contacts):\n",
    "    if len(contacts) <= 0:\n",
    "        print('Contacts List is empty')\n",
    "    else:\n",
    "        for key,value in contacts.items():\n",
    "            print(key,' --> ',value)"
   ]
  },
  {
   "cell_type": "code",
   "execution_count": 28,
   "metadata": {},
   "outputs": [
    {
     "name": "stdout",
     "output_type": "stream",
     "text": [
      "mohan  -->  9885160366\n",
      "ramu  -->  1234567890\n",
      "Enter name:: srinivas\n",
      "Enter number:: 9933224455\n",
      "contact added successfully\n",
      "mohan  -->  9885160366\n",
      "ramu  -->  1234567890\n",
      "srinivas  -->  9933224455\n"
     ]
    }
   ],
   "source": [
    "displayAllContacts(contacts)\n",
    "name = input('Enter name:: ')\n",
    "number = input('Enter number:: ')\n",
    "addContact(name,number)\n",
    "displayAllContacts(contacts)"
   ]
  },
  {
   "cell_type": "code",
   "execution_count": 29,
   "metadata": {},
   "outputs": [
    {
     "name": "stdout",
     "output_type": "stream",
     "text": [
      "mohan  -->  9885160366\n",
      "ramu  -->  1234567890\n",
      "srinivas  -->  9933224455\n",
      "Enter name:: mohan\n",
      "Enter number:: 9885212345\n",
      "contact number upddated successfully\n",
      "mohan  -->  9885212345\n",
      "ramu  -->  1234567890\n",
      "srinivas  -->  9933224455\n"
     ]
    }
   ],
   "source": [
    "displayAllContacts(contacts)\n",
    "name = input('Enter name:: ')\n",
    "number = input('Enter number:: ')\n",
    "updateContact(name,number)\n",
    "displayAllContacts(contacts)"
   ]
  },
  {
   "cell_type": "code",
   "execution_count": 30,
   "metadata": {},
   "outputs": [
    {
     "name": "stdout",
     "output_type": "stream",
     "text": [
      "mohan  -->  9885212345\n",
      "ramu  -->  1234567890\n",
      "srinivas  -->  9933224455\n",
      "Enter name:: ramu\n",
      "contact name and number deleted successfully\n",
      "mohan  -->  9885212345\n",
      "srinivas  -->  9933224455\n"
     ]
    }
   ],
   "source": [
    "displayAllContacts(contacts)\n",
    "name = input('Enter name:: ')\n",
    "#number = input('Enter number:: ')\n",
    "deleteContact(name)\n",
    "displayAllContacts(contacts)"
   ]
  },
  {
   "cell_type": "code",
   "execution_count": 31,
   "metadata": {},
   "outputs": [
    {
     "name": "stdout",
     "output_type": "stream",
     "text": [
      "mohan  -->  9885212345\n",
      "srinivas  -->  9933224455\n"
     ]
    }
   ],
   "source": [
    "displayAllContacts(contacts)"
   ]
  },
  {
   "cell_type": "code",
   "execution_count": null,
   "metadata": {},
   "outputs": [],
   "source": []
  },
  {
   "cell_type": "code",
   "execution_count": null,
   "metadata": {},
   "outputs": [],
   "source": [
    "# another task\n",
    "# 01 02 03 04 05 06 07\n",
    "# 08 09 10 11 12 13 14\n",
    "# 15 16 17 18 19 20 21\n",
    "# 22 23 24 25 26 27 28\n",
    "# 29 30 31\n",
    "\n",
    "multiples of 3 **\n",
    "multiples of 2 ()\n",
    "multiples of 5 []\n",
    "third row ##\n",
    "higher than 15 {}\n",
    "lower than 15 ::\n",
    "second column with ||\n"
   ]
  },
  {
   "cell_type": "code",
   "execution_count": null,
   "metadata": {},
   "outputs": [],
   "source": []
  }
 ],
 "metadata": {
  "kernelspec": {
   "display_name": "Python 3",
   "language": "python",
   "name": "python3"
  },
  "language_info": {
   "codemirror_mode": {
    "name": "ipython",
    "version": 3
   },
   "file_extension": ".py",
   "mimetype": "text/x-python",
   "name": "python",
   "nbconvert_exporter": "python",
   "pygments_lexer": "ipython3",
   "version": "3.7.6"
  }
 },
 "nbformat": 4,
 "nbformat_minor": 4
}
