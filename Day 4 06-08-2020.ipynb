{
 "cells": [
  {
   "cell_type": "code",
   "execution_count": null,
   "metadata": {},
   "outputs": [],
   "source": [
    "# Prasanna Raju : 9052507933 - APSSDC"
   ]
  },
  {
   "cell_type": "code",
   "execution_count": 3,
   "metadata": {},
   "outputs": [],
   "source": [
    "s = 'Welcome to apssdc'"
   ]
  },
  {
   "cell_type": "code",
   "execution_count": 27,
   "metadata": {},
   "outputs": [
    {
     "name": "stdout",
     "output_type": "stream",
     "text": [
      "Welcome to apssdc\n",
      "W\n",
      "e\n",
      "l\n",
      "c\n",
      "m\n"
     ]
    },
    {
     "ename": "IndexError",
     "evalue": "string index out of range",
     "output_type": "error",
     "traceback": [
      "\u001b[1;31m---------------------------------------------------------------------------\u001b[0m",
      "\u001b[1;31mIndexError\u001b[0m                                Traceback (most recent call last)",
      "\u001b[1;32m<ipython-input-27-2bc6f5542f80>\u001b[0m in \u001b[0;36m<module>\u001b[1;34m\u001b[0m\n\u001b[0;32m      5\u001b[0m \u001b[0mprint\u001b[0m\u001b[1;33m(\u001b[0m\u001b[0ms\u001b[0m\u001b[1;33m[\u001b[0m\u001b[1;36m3\u001b[0m\u001b[1;33m]\u001b[0m\u001b[1;33m)\u001b[0m\u001b[1;33m\u001b[0m\u001b[1;33m\u001b[0m\u001b[0m\n\u001b[0;32m      6\u001b[0m \u001b[0mprint\u001b[0m\u001b[1;33m(\u001b[0m\u001b[0ms\u001b[0m\u001b[1;33m[\u001b[0m\u001b[1;36m5\u001b[0m\u001b[1;33m]\u001b[0m\u001b[1;33m)\u001b[0m\u001b[1;33m\u001b[0m\u001b[1;33m\u001b[0m\u001b[0m\n\u001b[1;32m----> 7\u001b[1;33m \u001b[0mprint\u001b[0m\u001b[1;33m(\u001b[0m\u001b[0ms\u001b[0m\u001b[1;33m[\u001b[0m\u001b[1;36m17\u001b[0m\u001b[1;33m]\u001b[0m\u001b[1;33m)\u001b[0m\u001b[1;33m\u001b[0m\u001b[1;33m\u001b[0m\u001b[0m\n\u001b[0m",
      "\u001b[1;31mIndexError\u001b[0m: string index out of range"
     ]
    }
   ],
   "source": [
    "print(s)\n",
    "print(s[0])\n",
    "print(s[1])\n",
    "print(s[2])\n",
    "print(s[3])\n",
    "print(s[5])\n",
    "print(s[17])"
   ]
  },
  {
   "cell_type": "code",
   "execution_count": null,
   "metadata": {},
   "outputs": [],
   "source": []
  },
  {
   "cell_type": "code",
   "execution_count": null,
   "metadata": {},
   "outputs": [],
   "source": [
    "## : Slicing Operator"
   ]
  },
  {
   "cell_type": "code",
   "execution_count": 4,
   "metadata": {},
   "outputs": [
    {
     "name": "stdout",
     "output_type": "stream",
     "text": [
      "Welcome to apssdc\n"
     ]
    }
   ],
   "source": [
    "print(s[:])"
   ]
  },
  {
   "cell_type": "code",
   "execution_count": 7,
   "metadata": {},
   "outputs": [
    {
     "name": "stdout",
     "output_type": "stream",
     "text": [
      "e\n"
     ]
    }
   ],
   "source": [
    "print(s[1])"
   ]
  },
  {
   "cell_type": "code",
   "execution_count": 5,
   "metadata": {},
   "outputs": [
    {
     "name": "stdout",
     "output_type": "stream",
     "text": [
      "Welcome\n"
     ]
    }
   ],
   "source": [
    "print(s[0:7])"
   ]
  },
  {
   "cell_type": "code",
   "execution_count": 11,
   "metadata": {},
   "outputs": [
    {
     "name": "stdout",
     "output_type": "stream",
     "text": [
      "sdc\n"
     ]
    }
   ],
   "source": [
    "print(s[14:17])"
   ]
  },
  {
   "cell_type": "code",
   "execution_count": 10,
   "metadata": {},
   "outputs": [
    {
     "name": "stdout",
     "output_type": "stream",
     "text": [
      "sdc\n"
     ]
    }
   ],
   "source": [
    "print(s[-3:])"
   ]
  },
  {
   "cell_type": "code",
   "execution_count": 12,
   "metadata": {},
   "outputs": [
    {
     "name": "stdout",
     "output_type": "stream",
     "text": [
      "c\n"
     ]
    }
   ],
   "source": [
    "print(s[-1])"
   ]
  },
  {
   "cell_type": "code",
   "execution_count": 14,
   "metadata": {},
   "outputs": [
    {
     "name": "stdout",
     "output_type": "stream",
     "text": [
      "Welcome to apssdc\n"
     ]
    }
   ],
   "source": [
    "print(s[::])"
   ]
  },
  {
   "cell_type": "code",
   "execution_count": 4,
   "metadata": {},
   "outputs": [
    {
     "name": "stdout",
     "output_type": "stream",
     "text": [
      "Welcome to apssdc\n",
      "Wloet psc\n",
      "Wceopd\n",
      "elcome to apssd\n",
      "d\n",
      "cdsspa ot emocleW\n",
      "dsspa\n"
     ]
    }
   ],
   "source": [
    "print(s[::1]) # 1 step count\n",
    "print(s[::2]) # step count 2\n",
    "print(s[::3]) # step count 3\n",
    "print(s[-16:-1])\n",
    "print(s[-2:-1])\n",
    "\n",
    "print(s[::-1])  # reverse printing\n",
    "\n",
    "print(s[-2:10:-1])"
   ]
  },
  {
   "cell_type": "code",
   "execution_count": 1,
   "metadata": {},
   "outputs": [
    {
     "name": "stdout",
     "output_type": "stream",
     "text": [
      "Palindrome\n"
     ]
    }
   ],
   "source": [
    "# palindrome\n",
    "ps = 'malayalam' #madam\n",
    "if ps[::-1] == ps:\n",
    "    print('Palindrome')\n",
    "else:\n",
    "    print('not palindrome')"
   ]
  },
  {
   "cell_type": "code",
   "execution_count": 7,
   "metadata": {},
   "outputs": [
    {
     "name": "stdout",
     "output_type": "stream",
     "text": [
      "17\n",
      "['__add__', '__class__', '__contains__', '__delattr__', '__dir__', '__doc__', '__eq__', '__format__', '__ge__', '__getattribute__', '__getitem__', '__getnewargs__', '__gt__', '__hash__', '__init__', '__init_subclass__', '__iter__', '__le__', '__len__', '__lt__', '__mod__', '__mul__', '__ne__', '__new__', '__reduce__', '__reduce_ex__', '__repr__', '__rmod__', '__rmul__', '__setattr__', '__sizeof__', '__str__', '__subclasshook__', 'capitalize', 'casefold', 'center', 'count', 'encode', 'endswith', 'expandtabs', 'find', 'format', 'format_map', 'index', 'isalnum', 'isalpha', 'isascii', 'isdecimal', 'isdigit', 'isidentifier', 'islower', 'isnumeric', 'isprintable', 'isspace', 'istitle', 'isupper', 'join', 'ljust', 'lower', 'lstrip', 'maketrans', 'partition', 'replace', 'rfind', 'rindex', 'rjust', 'rpartition', 'rsplit', 'rstrip', 'split', 'splitlines', 'startswith', 'strip', 'swapcase', 'title', 'translate', 'upper', 'zfill']\n"
     ]
    }
   ],
   "source": [
    "# len function\n",
    "ls = 'Welcome to Python'\n",
    "print(len(ls))\n"
   ]
  },
  {
   "cell_type": "code",
   "execution_count": null,
   "metadata": {},
   "outputs": [],
   "source": [
    "# to print the methods of string\n",
    "print(dir(str))\n",
    "#syntax: var = method()"
   ]
  },
  {
   "cell_type": "code",
   "execution_count": 14,
   "metadata": {},
   "outputs": [
    {
     "name": "stdout",
     "output_type": "stream",
     "text": [
      "WelCome to APssDC\n",
      "Welcome to apssdc\n",
      "WelCome to APssDC\n",
      "welcome to apssdc\n",
      "WelCome to APssDC\n",
      "2\n"
     ]
    }
   ],
   "source": [
    "# predefined methods of string\n",
    "s5 = 'WelCome to APssDC'\n",
    "print(s5)\n",
    "print(s5.capitalize())\n",
    "print(s5)\n",
    "print(s5.casefold())\n",
    "print(s5)\n",
    "# center\n",
    "print(s5.count('e')) # counts the given "
   ]
  },
  {
   "cell_type": "code",
   "execution_count": 17,
   "metadata": {},
   "outputs": [
    {
     "name": "stdout",
     "output_type": "stream",
     "text": [
      "b'Python'\n",
      "b'Python'\n",
      "Python\n",
      "Python\n"
     ]
    }
   ],
   "source": [
    "s6 = 'Python'\n",
    "print(s6.encode())\n",
    "s7 = s6.encode()\n",
    "print(s7)\n",
    "print(s7.decode())\n",
    "s8 = s7.decode()\n",
    "print(s8)"
   ]
  },
  {
   "cell_type": "code",
   "execution_count": 20,
   "metadata": {},
   "outputs": [
    {
     "name": "stdout",
     "output_type": "stream",
     "text": [
      "False\n",
      "True\n",
      "True\n",
      "False\n"
     ]
    }
   ],
   "source": [
    "s9 = 'Welcome to'\n",
    "print(s9.startswith('e'))\n",
    "print(s9.startswith('W'))\n",
    "print(s9.startswith('Wel'))\n",
    "print(s9.startswith('come'))"
   ]
  },
  {
   "cell_type": "code",
   "execution_count": 22,
   "metadata": {},
   "outputs": [
    {
     "name": "stdout",
     "output_type": "stream",
     "text": [
      "False\n",
      "True\n",
      "True\n",
      "False\n"
     ]
    }
   ],
   "source": [
    "s10 = 'Welcome to'\n",
    "print(s10.endswith('t'))\n",
    "print(s10.endswith('o'))\n",
    "print(s10.endswith('to'))\n",
    "print(s10.endswith('Wel'))"
   ]
  },
  {
   "cell_type": "code",
   "execution_count": 25,
   "metadata": {},
   "outputs": [
    {
     "name": "stdout",
     "output_type": "stream",
     "text": [
      "Welcome to from home guntur\n",
      "Welcome hello from home to hi guntur\n"
     ]
    }
   ],
   "source": [
    "# format method\n",
    "# syntax {} {}   .format(12,56)\n",
    "print('Welcome {} from home {}'.format('to', 'guntur'))\n",
    "print('Welcome {1} from home {0} hi {2}'.format('to', 'hello','guntur'))"
   ]
  },
  {
   "cell_type": "code",
   "execution_count": 26,
   "metadata": {},
   "outputs": [
    {
     "name": "stdout",
     "output_type": "stream",
     "text": [
      "Welcome to from home guntur\n"
     ]
    }
   ],
   "source": [
    "print('Welcome %s from home %s'%('to', 'guntur'))"
   ]
  },
  {
   "cell_type": "code",
   "execution_count": 29,
   "metadata": {},
   "outputs": [
    {
     "name": "stdout",
     "output_type": "stream",
     "text": [
      "True\n",
      "True\n",
      "True\n",
      "False\n",
      "False\n"
     ]
    }
   ],
   "source": [
    "s11 = 'WELcome'\n",
    "s12 = 'welcome'\n",
    "s13 = 'WELCOME'\n",
    "s14 = 'WELcome $@ Ap 123'\n",
    "s15 = '12345asdf'\n",
    "\n",
    "# isalpha alphanumerics only\n",
    "print(s11.isalpha())\n",
    "print(s12.isalpha())\n",
    "print(s13.isalpha())\n",
    "print(s14.isalpha())\n",
    "print(s15.isalpha())"
   ]
  },
  {
   "cell_type": "code",
   "execution_count": 31,
   "metadata": {},
   "outputs": [
    {
     "name": "stdout",
     "output_type": "stream",
     "text": [
      "WELcome\n",
      "welcome\n",
      "WELCOME\n",
      "WELcome $@ Ap 123\n",
      "12345asdf\n",
      "welcome\n",
      "welcome\n",
      "welcome\n",
      "welcome $@ ap 123\n",
      "12345asdf\n",
      "WELCOME\n",
      "WELCOME\n",
      "WELCOME\n",
      "WELCOME $@ AP 123\n",
      "12345ASDF\n"
     ]
    }
   ],
   "source": [
    "s11 = 'WELcome'\n",
    "s12 = 'welcome'\n",
    "s13 = 'WELCOME'\n",
    "s14 = 'WELcome $@ Ap 123'\n",
    "s15 = '12345asdf'\n",
    "\n",
    "print(s11)\n",
    "print(s12)\n",
    "print(s13)\n",
    "print(s14)\n",
    "print(s15)\n",
    "\n",
    "# lower converts to lowercase only\n",
    "print(s11.lower())\n",
    "print(s12.lower())\n",
    "print(s13.lower())\n",
    "print(s14.lower())\n",
    "print(s15.lower())\n",
    "\n",
    "# upper converts to uppercase only\n",
    "print(s11.upper())\n",
    "print(s12.upper())\n",
    "print(s13.upper())\n",
    "print(s14.upper())\n",
    "print(s15.upper())\n"
   ]
  },
  {
   "cell_type": "code",
   "execution_count": 35,
   "metadata": {},
   "outputs": [
    {
     "name": "stdout",
     "output_type": "stream",
     "text": [
      "checking isdigit() function\n",
      "WELcome\n",
      "False\n",
      "welcome\n",
      "False\n",
      "WELCOME\n",
      "False\n",
      "WELcome $@ Ap 123\n",
      "False\n",
      "12345 asdf\n",
      "False\n",
      "123456\n",
      "True\n",
      "checking isnumeric() function\n",
      "WELcome\n",
      "False\n",
      "welcome\n",
      "False\n",
      "WELCOME\n",
      "False\n",
      "WELcome $@ Ap 123\n",
      "False\n",
      "12345 asdf\n",
      "False\n",
      "123456\n",
      "True\n"
     ]
    }
   ],
   "source": [
    "s11 = 'WELcome'\n",
    "s12 = 'welcome'\n",
    "s13 = 'WELCOME'\n",
    "s14 = 'WELcome $@ Ap 123'\n",
    "s15 = '12345 asdf'\n",
    "s16 = '123456'\n",
    "\n",
    "# isdigit checks digits present or not returns true or false\n",
    "print('checking isdigit() function')\n",
    "print(s11)\n",
    "print(s11.isdigit())\n",
    "\n",
    "print(s12)\n",
    "print(s12.isdigit())\n",
    "\n",
    "print(s13)\n",
    "print(s13.isdigit())\n",
    "\n",
    "print(s14)\n",
    "print(s14.isdigit())\n",
    "\n",
    "print(s15)\n",
    "print(s15.isdigit())\n",
    "\n",
    "print(s16)\n",
    "print(s16.isdigit())\n",
    "\n",
    "\n",
    "# isnumeric checks digits present or not returns true or false\n",
    "print('checking isnumeric() function')\n",
    "print(s11)\n",
    "print(s11.isnumeric())\n",
    "\n",
    "print(s12)\n",
    "print(s12.isnumeric())\n",
    "\n",
    "print(s13)\n",
    "print(s13.isnumeric())\n",
    "\n",
    "print(s14)\n",
    "print(s14.isnumeric())\n",
    "\n",
    "print(s15)\n",
    "print(s15.isnumeric())\n",
    "\n",
    "print(s16)\n",
    "print(s16.isnumeric())"
   ]
  },
  {
   "cell_type": "code",
   "execution_count": 37,
   "metadata": {},
   "outputs": [
    {
     "name": "stdout",
     "output_type": "stream",
     "text": [
      "True\n",
      "False\n",
      "False\n",
      "False\n",
      "True\n",
      "False\n"
     ]
    }
   ],
   "source": [
    "print('welcome'.islower())\n",
    "print('WELCOME'.islower())\n",
    "print('weLcOMe'.islower())\n",
    "\n",
    "print('welcome'.isupper())\n",
    "print('WELCOME'.isupper())\n",
    "print('weLcOMe'.isupper())"
   ]
  },
  {
   "cell_type": "code",
   "execution_count": 38,
   "metadata": {},
   "outputs": [
    {
     "name": "stdout",
     "output_type": "stream",
     "text": [
      "   Welcome to APSSDC    \n",
      "Welcome to APSSDC\n",
      "   Welcome to APSSDC\n",
      "Welcome to APSSDC    \n"
     ]
    }
   ],
   "source": [
    "s1 = '   Welcome to APSSDC    '\n",
    "print(s1)\n",
    "print(s1.strip())\n",
    "print(s1.rstrip())\n",
    "print(s1.lstrip())"
   ]
  },
  {
   "cell_type": "code",
   "execution_count": 49,
   "metadata": {},
   "outputs": [
    {
     "name": "stdout",
     "output_type": "stream",
     "text": [
      " Welcome to FDP1.23F \n",
      "Welcome to FDP1.23F$Welcome to FDP1.23F $ Welcome to FDP1.23F$"
     ]
    }
   ],
   "source": [
    "s=' Welcome to FDP1.23F '\n",
    "print(s)\n",
    "print(s.strip(),end='$')\n",
    "print(s.lstrip(),end='$')\n",
    "print(s.rstrip(),end='$')"
   ]
  },
  {
   "cell_type": "code",
   "execution_count": 39,
   "metadata": {},
   "outputs": [
    {
     "name": "stdout",
     "output_type": "stream",
     "text": [
      "   Welcome to APSSDC    \n",
      "['Welcome', 'to', 'APSSDC']\n",
      "['   W', 'lcom', ' to APSSDC    ']\n",
      "['Welcome', 'to', 'APSSDC', 'Hello']\n"
     ]
    }
   ],
   "source": [
    "s1 = '   Welcome to APSSDC    '\n",
    "print(s1)\n",
    "print(s1.split())\n",
    "print(s1.split('e'))\n",
    "\n",
    "\n",
    "s1 = 'Welcome$to$APSSDC$Hello'\n",
    "print(s1.split('$'))"
   ]
  },
  {
   "cell_type": "code",
   "execution_count": 41,
   "metadata": {},
   "outputs": [
    {
     "name": "stdout",
     "output_type": "stream",
     "text": [
      "Welcome to APSSDC\n",
      "W e l c o m e   t o   A P S S D C\n",
      "W_e_l_c_o_m_e_ _t_o_ _A_P_S_S_D_C\n",
      "W-e-l-c-o-m-e- -t-o- -A-P-S-S-D-C\n",
      "Wseslscsosmses stsos sAsPsSsSsDsC\n"
     ]
    }
   ],
   "source": [
    "s1 = 'Welcome to APSSDC'\n",
    "print(s1)\n",
    "print(' '.join(s1))\n",
    "print('_'.join(s1))\n",
    "print('-'.join(s1))\n",
    "print('s'.join(s1))"
   ]
  },
  {
   "cell_type": "code",
   "execution_count": 42,
   "metadata": {},
   "outputs": [
    {
     "data": {
      "text/plain": [
       "'WelCOMe'"
      ]
     },
     "execution_count": 42,
     "metadata": {},
     "output_type": "execute_result"
    }
   ],
   "source": [
    "# swapcase - lower to upper and upper to lower where they are\n",
    "s1 = 'wELcomE'\n",
    "s1.swapcase()"
   ]
  },
  {
   "cell_type": "code",
   "execution_count": 43,
   "metadata": {},
   "outputs": [
    {
     "name": "stdout",
     "output_type": "stream",
     "text": [
      "Welcome to APSSDC\n",
      "W\n",
      "e\n",
      "l\n",
      "c\n",
      "o\n",
      "m\n",
      "e\n",
      " \n",
      "t\n",
      "o\n",
      " \n",
      "a\n",
      "p\n",
      "s\n",
      "s\n",
      "d\n",
      "c\n"
     ]
    }
   ],
   "source": [
    "s1 = 'Welcome to APSSDC'\n",
    "print(s1)\n",
    "for i in s:\n",
    "    print(i)"
   ]
  },
  {
   "cell_type": "code",
   "execution_count": 44,
   "metadata": {},
   "outputs": [
    {
     "name": "stdout",
     "output_type": "stream",
     "text": [
      "Welcome to APSSDC\n",
      "W e l c o m e   t o   a p s s d c "
     ]
    }
   ],
   "source": [
    "s1 = 'Welcome to APSSDC'\n",
    "print(s1)\n",
    "for i in s:\n",
    "    print(i,end=' ')"
   ]
  },
  {
   "cell_type": "code",
   "execution_count": 48,
   "metadata": {},
   "outputs": [
    {
     "name": "stdout",
     "output_type": "stream",
     "text": [
      "Welcome To APSSDC\n",
      "Welcome\n",
      "To\n",
      "APSSDC\n",
      "3\n"
     ]
    }
   ],
   "source": [
    "s1 = 'Welcome To APSSDC'\n",
    "print(s1)\n",
    "count = 0\n",
    "for i in s1.split():\n",
    "    print(i)\n",
    "    count += 1\n",
    "print(count)"
   ]
  },
  {
   "cell_type": "code",
   "execution_count": 50,
   "metadata": {},
   "outputs": [
    {
     "data": {
      "text/plain": [
       "'0b1100'"
      ]
     },
     "execution_count": 50,
     "metadata": {},
     "output_type": "execute_result"
    }
   ],
   "source": [
    "bin(12)"
   ]
  },
  {
   "cell_type": "code",
   "execution_count": 52,
   "metadata": {},
   "outputs": [
    {
     "data": {
      "text/plain": [
       "'0b1100001'"
      ]
     },
     "execution_count": 52,
     "metadata": {},
     "output_type": "execute_result"
    }
   ],
   "source": [
    "bin(ord('a'))"
   ]
  },
  {
   "cell_type": "code",
   "execution_count": 66,
   "metadata": {},
   "outputs": [
    {
     "name": "stdout",
     "output_type": "stream",
     "text": [
      "a\n",
      "S\n",
      "D\n",
      "F\n",
      "g\n",
      "H\n",
      "K\n",
      "1\n",
      "2\n",
      "3\n",
      "4\n",
      "5\n",
      "@\n",
      "#\n",
      "$\n",
      "%\n",
      "^\n",
      "&\n",
      "s\n",
      "d\n",
      "f\n",
      "g\n",
      "h\n",
      "j\n",
      "7\n",
      "8\n",
      "9\n",
      "0\n",
      "upper count =  5\n",
      "lower count =  8\n",
      "digit count =  9\n",
      "special count =  6\n",
      "total count =  28\n"
     ]
    }
   ],
   "source": [
    "# task - find numbers of uppercase, lowercase, numbers, special chars\n",
    "\n",
    "s15 = 'aSDFgHK12345@#$%^&sdfghj7890'\n",
    "count = 0\n",
    "cupr=0\n",
    "clwr=0\n",
    "cdgt=0\n",
    "cspl=0\n",
    "for i in s15:\n",
    "    print(i)\n",
    "    #print(type(i))\n",
    "    count += 1\n",
    "    if (i.isupper() == True):\n",
    "        cupr += 1\n",
    "    elif (i.islower() == True):\n",
    "        clwr += 1\n",
    "    elif (i.isdigit() == True):\n",
    "        cdgt += 1\n",
    "    else:\n",
    "        cspl += 1\n",
    "print('upper count = ',cupr)\n",
    "print('lower count = ',clwr)\n",
    "print('digit count = ',cdgt)\n",
    "print('special count = ',cspl)\n",
    "print('total count = ',count)\n",
    "        "
   ]
  },
  {
   "cell_type": "code",
   "execution_count": 19,
   "metadata": {},
   "outputs": [
    {
     "name": "stdout",
     "output_type": "stream",
     "text": [
      "['banana', '30', 'apple', '99', 'greaps', '63']\n",
      "banana\n",
      "<class 'str'>\n",
      "30\n",
      "<class 'str'>\n",
      "apple\n",
      "<class 'str'>\n",
      "99\n",
      "<class 'str'>\n",
      "greaps\n",
      "<class 'str'>\n",
      "63\n",
      "<class 'str'>\n"
     ]
    }
   ],
   "source": [
    "# task2:- input --> s1 = \"banana 30 apple 99 greaps 63\"\n",
    "# output --> Total :- 192\n",
    "s16 = 'banana 30 apple 99 greaps 63'\n",
    "s161 = s16.split(' ')\n",
    "print(s161)\n",
    "for i in s161:\n",
    "    print(i)\n",
    "    print(type(i))\n",
    "    #if i[]\n",
    "    #print(int(i))\n",
    "    #print(i[:])\n",
    "    #print(type(i[1]))\n",
    "\n"
   ]
  },
  {
   "cell_type": "code",
   "execution_count": null,
   "metadata": {},
   "outputs": [],
   "source": []
  },
  {
   "cell_type": "code",
   "execution_count": null,
   "metadata": {},
   "outputs": [],
   "source": [
    "task1:\n",
    "input s = \"aSDFGHJK1234567@#$%^&sdfgh\"\n",
    "output--> capital let:7\n",
    "small letters : 6\n",
    "Special chr: 6\n",
    "numbers : 7\n",
    "task2:- input --> s1 = \"banana 30 apple 99 greaps 63\"\n",
    "output --> Total :- 192\n",
    "task3: input --> s3 = \"raja ravi mahesh kumar charsn lakshmi\"\n",
    "output --> raja\n",
    "ravi\n",
    "task4 input --> s4 = \"raja ravi mahesh kumar charsn lakshmi\"\n",
    "output --> ravi\n",
    "lakshmi\n",
    "task5 input --> s5 = \"sdfgh9146823fghj\"\n",
    "ouput --> 33\n",
    "\n"
   ]
  },
  {
   "cell_type": "code",
   "execution_count": null,
   "metadata": {},
   "outputs": [],
   "source": []
  },
  {
   "cell_type": "markdown",
   "metadata": {},
   "source": [
    "### Pytho Data Structures\n",
    "- list\n",
    "- tuple\n",
    "- Dictionary"
   ]
  },
  {
   "cell_type": "code",
   "execution_count": 77,
   "metadata": {},
   "outputs": [
    {
     "name": "stdout",
     "output_type": "stream",
     "text": [
      "<class 'list'>\n",
      "[]\n",
      "<class 'list'>\n",
      "['Apssdc', '1234', 5, 'Hello', 7]\n",
      "1234\n",
      "5\n",
      "['Apssdc', '1234']\n",
      "7\n",
      "[7, 'Hello', 5, '1234', 'Apssdc']\n"
     ]
    }
   ],
   "source": [
    "# List\n",
    "l = []\n",
    "print(type(l))\n",
    "print(l)"
   ]
  },
  {
   "cell_type": "code",
   "execution_count": 83,
   "metadata": {},
   "outputs": [
    {
     "name": "stdout",
     "output_type": "stream",
     "text": [
      "<class 'list'>\n",
      "['Apssdc', '1234', 5, 'Hello', 7]\n",
      "1234\n",
      "5\n",
      "['Apssdc', '1234']\n",
      "7\n",
      "[7, 'Hello', 5, '1234', 'Apssdc']\n",
      "['Apssdc', '1234', 5, 'Hello', 7]\n"
     ]
    }
   ],
   "source": [
    "# List\n",
    "l = ['Apssdc', '1234', 5,'Hello',7]\n",
    "print(type(l))\n",
    "print(l)\n",
    "print(l[1])\n",
    "print(l[2])\n",
    "print(l[0:2])\n",
    "print(l[-1])\n",
    "print(l[::-1])\n",
    "print(l[:])"
   ]
  },
  {
   "cell_type": "code",
   "execution_count": 82,
   "metadata": {},
   "outputs": [
    {
     "name": "stdout",
     "output_type": "stream",
     "text": [
      "['Apssdc', '1234', 5, 'Hello', 7]\n",
      "Apssdc\n",
      "<class 'str'>\n",
      "1234\n",
      "<class 'str'>\n",
      "5\n",
      "<class 'int'>\n",
      "Hello\n",
      "<class 'str'>\n",
      "7\n",
      "<class 'int'>\n"
     ]
    }
   ],
   "source": [
    "# reverse each word in list\n",
    "l = ['Apssdc', '1234', 5,'Hello',7]\n",
    "print(l)\n",
    "for i in l:\n",
    "    print(i)\n",
    "    print(type(i))\n",
    "    #print(i[::-1])"
   ]
  },
  {
   "cell_type": "code",
   "execution_count": 84,
   "metadata": {},
   "outputs": [
    {
     "name": "stdout",
     "output_type": "stream",
     "text": [
      "['__add__', '__class__', '__contains__', '__delattr__', '__delitem__', '__dir__', '__doc__', '__eq__', '__format__', '__ge__', '__getattribute__', '__getitem__', '__gt__', '__hash__', '__iadd__', '__imul__', '__init__', '__init_subclass__', '__iter__', '__le__', '__len__', '__lt__', '__mul__', '__ne__', '__new__', '__reduce__', '__reduce_ex__', '__repr__', '__reversed__', '__rmul__', '__setattr__', '__setitem__', '__sizeof__', '__str__', '__subclasshook__', 'append', 'clear', 'copy', 'count', 'extend', 'index', 'insert', 'pop', 'remove', 'reverse', 'sort']\n"
     ]
    }
   ],
   "source": [
    "# list functions\n",
    "print(dir(list))"
   ]
  },
  {
   "cell_type": "code",
   "execution_count": 88,
   "metadata": {},
   "outputs": [
    {
     "name": "stdout",
     "output_type": "stream",
     "text": [
      "['Apssdc', '1234', 5, 'Hello', 7]\n",
      "0\n",
      "4\n"
     ]
    }
   ],
   "source": [
    "l1 = ['Apssdc', '1234', 5,'Hello',7]\n",
    "print(l1)\n",
    "print(l1.index('Apssdc'))\n",
    "print(l1.index(7))"
   ]
  },
  {
   "cell_type": "code",
   "execution_count": 91,
   "metadata": {},
   "outputs": [
    {
     "name": "stdout",
     "output_type": "stream",
     "text": [
      "['Apssdc', '1234', 5, 'Hello', 7]\n",
      "['Apssdc', '1234', 5, 'Hello', 7]\n"
     ]
    },
    {
     "data": {
      "text/plain": [
       "(['Apssdc', '1234', 5, 'Hello', 7], ['Apssdc', '1234', 5, 'Hello', 7])"
      ]
     },
     "execution_count": 91,
     "metadata": {},
     "output_type": "execute_result"
    }
   ],
   "source": [
    "l2 = l1.copy()\n",
    "print(l1)\n",
    "print(l2)\n",
    "l1,l2"
   ]
  },
  {
   "cell_type": "code",
   "execution_count": 90,
   "metadata": {},
   "outputs": [
    {
     "data": {
      "text/plain": [
       "(['Apssdc', '1234', 5, 'Hello', 7],\n",
       " ['Apssdc', '1234', 5, 'Hello', 7],\n",
       " ['Apssdc', '1234', 5, 'Hello', 7])"
      ]
     },
     "execution_count": 90,
     "metadata": {},
     "output_type": "execute_result"
    }
   ],
   "source": [
    "l3 = l1\n",
    "l1,l2,l3"
   ]
  },
  {
   "cell_type": "code",
   "execution_count": 94,
   "metadata": {},
   "outputs": [
    {
     "data": {
      "text/plain": [
       "(['Apssdc', '1234', 5, 'Hello', 7, 'bye bye', 'bye bye', 'bye bye'],\n",
       " ['Apssdc', '1234', 5, 'Hello', 7],\n",
       " ['Apssdc', '1234', 5, 'Hello', 7, 'bye bye', 'bye bye', 'bye bye'])"
      ]
     },
     "execution_count": 94,
     "metadata": {},
     "output_type": "execute_result"
    }
   ],
   "source": [
    "l1.append(\"bye bye\")\n",
    "l1\n",
    "l1,l2,l3"
   ]
  },
  {
   "cell_type": "code",
   "execution_count": 96,
   "metadata": {},
   "outputs": [
    {
     "data": {
      "text/plain": [
       "(['Apssdc',\n",
       "  '1234',\n",
       "  'mohan',\n",
       "  'mohan',\n",
       "  5,\n",
       "  'Hello',\n",
       "  7,\n",
       "  'bye bye',\n",
       "  'bye bye',\n",
       "  'bye bye'],\n",
       " ['Apssdc', '1234', 5, 'Hello', 7],\n",
       " ['Apssdc',\n",
       "  '1234',\n",
       "  'mohan',\n",
       "  'mohan',\n",
       "  5,\n",
       "  'Hello',\n",
       "  7,\n",
       "  'bye bye',\n",
       "  'bye bye',\n",
       "  'bye bye'])"
      ]
     },
     "execution_count": 96,
     "metadata": {},
     "output_type": "execute_result"
    }
   ],
   "source": [
    "l1.insert(2,'mohan')\n",
    "l1\n",
    "l1,l2,l3"
   ]
  },
  {
   "cell_type": "code",
   "execution_count": 97,
   "metadata": {},
   "outputs": [
    {
     "data": {
      "text/plain": [
       "['Apssdc',\n",
       " '1234',\n",
       " 'mohan',\n",
       " 'mohan',\n",
       " 5,\n",
       " 'Hello',\n",
       " 7,\n",
       " 'bye bye',\n",
       " 'bye bye',\n",
       " 'bye bye']"
      ]
     },
     "execution_count": 97,
     "metadata": {},
     "output_type": "execute_result"
    }
   ],
   "source": [
    "l1"
   ]
  },
  {
   "cell_type": "code",
   "execution_count": 99,
   "metadata": {},
   "outputs": [],
   "source": [
    "l1.remove('mohan')"
   ]
  },
  {
   "cell_type": "code",
   "execution_count": 101,
   "metadata": {},
   "outputs": [],
   "source": [
    "l1.remove('bye bye')"
   ]
  },
  {
   "cell_type": "code",
   "execution_count": 102,
   "metadata": {},
   "outputs": [
    {
     "data": {
      "text/plain": [
       "['Apssdc', '1234', 'mohan', 5, 'Hello', 7, 'bye bye']"
      ]
     },
     "execution_count": 102,
     "metadata": {},
     "output_type": "execute_result"
    }
   ],
   "source": [
    "l1"
   ]
  },
  {
   "cell_type": "code",
   "execution_count": 106,
   "metadata": {},
   "outputs": [
    {
     "name": "stdout",
     "output_type": "stream",
     "text": [
      "['Apssdc', '1234', 'mohan', 5, 'Hello', 7]\n",
      "['Apssdc', '1234', 'mohan', 5, 'Hello', 7, 'bye']\n",
      "bye\n",
      "['Apssdc', '1234', 'mohan', 5, 'Hello', 7]\n"
     ]
    }
   ],
   "source": [
    "print(l1)\n",
    "l1.append('bye')\n",
    "print(l1)\n",
    "print(l1.pop())\n",
    "print(l1)"
   ]
  },
  {
   "cell_type": "code",
   "execution_count": 109,
   "metadata": {},
   "outputs": [
    {
     "name": "stdout",
     "output_type": "stream",
     "text": [
      "[2, 5, 1, 7, 3, 8, 0]\n",
      "[0, 1, 2, 3, 5, 7, 8]\n"
     ]
    },
    {
     "data": {
      "text/plain": [
       "[0, 1, 2, 3, 5, 7, 8]"
      ]
     },
     "execution_count": 109,
     "metadata": {},
     "output_type": "execute_result"
    }
   ],
   "source": [
    "l2 = [2,5,1,7,3,8,0]\n",
    "print(l2)\n",
    "l2.sort()\n",
    "print(l2)\n",
    "l2"
   ]
  },
  {
   "cell_type": "code",
   "execution_count": 110,
   "metadata": {},
   "outputs": [
    {
     "name": "stdout",
     "output_type": "stream",
     "text": [
      "['Apssdc', '1234', 'mohan', 5, 'Hello', 7]\n",
      "[0, 1, 2, 3, 5, 7, 8]\n",
      "['Apssdc', '1234', 'mohan', 5, 'Hello', 7, 0, 1, 2, 3, 5, 7, 8]\n",
      "[0, 1, 2, 3, 5, 7, 8]\n"
     ]
    }
   ],
   "source": [
    "print(l1)\n",
    "print(l2)\n",
    "l1.extend(l2)\n",
    "print(l1)\n",
    "print(l2)"
   ]
  },
  {
   "cell_type": "code",
   "execution_count": 111,
   "metadata": {},
   "outputs": [
    {
     "data": {
      "text/plain": [
       "[]"
      ]
     },
     "execution_count": 111,
     "metadata": {},
     "output_type": "execute_result"
    }
   ],
   "source": [
    "l2.clear()\n",
    "l2"
   ]
  },
  {
   "cell_type": "code",
   "execution_count": 112,
   "metadata": {},
   "outputs": [
    {
     "name": "stdout",
     "output_type": "stream",
     "text": [
      "None\n",
      "[1, 2, 3, 5, 6, 6]\n"
     ]
    }
   ],
   "source": [
    "l5=[1,5,2,6,3,6]\n",
    "print(l5.sort())\n",
    "print(l5)"
   ]
  },
  {
   "cell_type": "code",
   "execution_count": null,
   "metadata": {},
   "outputs": [],
   "source": [
    "l5"
   ]
  },
  {
   "cell_type": "code",
   "execution_count": null,
   "metadata": {},
   "outputs": [],
   "source": [
    "# syntaxt of using: help()"
   ]
  },
  {
   "cell_type": "code",
   "execution_count": null,
   "metadata": {},
   "outputs": [],
   "source": []
  }
 ],
 "metadata": {
  "kernelspec": {
   "display_name": "Python 3",
   "language": "python",
   "name": "python3"
  },
  "language_info": {
   "codemirror_mode": {
    "name": "ipython",
    "version": 3
   },
   "file_extension": ".py",
   "mimetype": "text/x-python",
   "name": "python",
   "nbconvert_exporter": "python",
   "pygments_lexer": "ipython3",
   "version": "3.7.6"
  }
 },
 "nbformat": 4,
 "nbformat_minor": 4
}
