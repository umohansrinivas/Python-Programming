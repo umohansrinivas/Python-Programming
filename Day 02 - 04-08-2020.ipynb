{
 "cells": [
  {
   "cell_type": "markdown",
   "metadata": {},
   "source": [
    "## Comparision Operators\n",
    "- ==, <, >, >=, <=, !=\n",
    "\n",
    "## Bitwise Operators\n",
    "- |, &, ^"
   ]
  },
  {
   "cell_type": "code",
   "execution_count": 5,
   "metadata": {},
   "outputs": [
    {
     "name": "stdout",
     "output_type": "stream",
     "text": [
      "True\n",
      "False\n",
      "True\n",
      "False\n",
      "True\n"
     ]
    }
   ],
   "source": [
    "a=10\n",
    "b=20\n",
    "a == b\n",
    "print(a<b)\n",
    "print(a>b)\n",
    "print(a<=b)\n",
    "print(a>=b)\n",
    "print(a!=b)\n"
   ]
  },
  {
   "cell_type": "code",
   "execution_count": 7,
   "metadata": {},
   "outputs": [
    {
     "data": {
      "text/plain": [
       "'0b101000'"
      ]
     },
     "execution_count": 7,
     "metadata": {},
     "output_type": "execute_result"
    }
   ],
   "source": [
    "# BInary Number\n",
    "bin(40)\n",
    "# ignore prefix 0b"
   ]
  },
  {
   "cell_type": "code",
   "execution_count": 13,
   "metadata": {},
   "outputs": [
    {
     "name": "stdout",
     "output_type": "stream",
     "text": [
      "0b111\n",
      "0b1001\n",
      "0b1\n",
      "1\n",
      "0b1111\n",
      "15\n",
      "0b1110\n",
      "14\n"
     ]
    }
   ],
   "source": [
    "a = 7\n",
    "b = 9\n",
    "print(bin(7))\n",
    "print(bin(9))\n",
    "print(bin(a&b))\n",
    "print(a&b)\n",
    "print(bin(a|b))\n",
    "print(a|b)\n",
    "print(bin(a^b))\n",
    "print(a^b)\n"
   ]
  },
  {
   "cell_type": "code",
   "execution_count": 16,
   "metadata": {},
   "outputs": [
    {
     "name": "stdout",
     "output_type": "stream",
     "text": [
      "Enter a::7\n",
      "Enter b::9\n",
      "7\n",
      "9\n",
      "0b111\n",
      "0b1001\n"
     ]
    }
   ],
   "source": [
    "a = int(input(\"Enter a::\"))\n",
    "b = int(input(\"Enter b::\"))\n",
    "print(a)\n",
    "print(b)\n",
    "print(bin(a))\n",
    "print(bin(b))"
   ]
  },
  {
   "cell_type": "code",
   "execution_count": null,
   "metadata": {},
   "outputs": [],
   "source": [
    "# Data Types\n",
    "# int, float, boolean, string\n",
    "# type(variable)\n",
    "\n",
    "# Typecasting\n",
    "## Conversion of one data type to another data type"
   ]
  },
  {
   "cell_type": "code",
   "execution_count": 19,
   "metadata": {},
   "outputs": [
    {
     "name": "stdout",
     "output_type": "stream",
     "text": [
      "<class 'int'>\n",
      "<class 'float'>\n",
      "<class 'bool'>\n",
      "<class 'str'>\n"
     ]
    }
   ],
   "source": [
    "a = 10\n",
    "print(type(a))\n",
    "b = 12.5\n",
    "print(type(b))\n",
    "c = True\n",
    "print(type(c))\n",
    "d = 'Hello'\n",
    "print(type(d))"
   ]
  },
  {
   "cell_type": "code",
   "execution_count": 20,
   "metadata": {},
   "outputs": [
    {
     "name": "stdout",
     "output_type": "stream",
     "text": [
      "Enter a value8\n",
      "8\n",
      "<class 'str'>\n",
      "8\n",
      "<class 'int'>\n"
     ]
    }
   ],
   "source": [
    "# Typecasting str to int\n",
    "a = input(\"Enter a value\")\n",
    "print(a)\n",
    "print(type(a))\n",
    "a = int(a)\n",
    "print(a)\n",
    "print(type(a))"
   ]
  },
  {
   "cell_type": "code",
   "execution_count": null,
   "metadata": {},
   "outputs": [],
   "source": [
    "# Typecasting int to str\n",
    "b = 20\n",
    "print(b)\n",
    "print(type(b))\n",
    "b = str(b)\n",
    "print(b)\n",
    "print(type(b))"
   ]
  },
  {
   "cell_type": "code",
   "execution_count": 22,
   "metadata": {},
   "outputs": [
    {
     "name": "stdout",
     "output_type": "stream",
     "text": [
      "26.5\n",
      "<class 'float'>\n",
      "26\n",
      "<class 'int'>\n",
      "26.5\n",
      "<class 'str'>\n"
     ]
    }
   ],
   "source": [
    "# Typecasting float to int and to str\n",
    "c = 26.5\n",
    "print(c)\n",
    "print(type(c))\n",
    "ci = int(c)\n",
    "print(ci)\n",
    "print(type(ci))\n",
    "cs = str(c)\n",
    "print(cs)\n",
    "print(type(cs))"
   ]
  },
  {
   "cell_type": "code",
   "execution_count": 24,
   "metadata": {},
   "outputs": [
    {
     "name": "stdout",
     "output_type": "stream",
     "text": [
      "010101\n",
      "<class 'str'>\n",
      "21\n"
     ]
    }
   ],
   "source": [
    "# conversion of binary to decimal\n",
    "b = '010101'\n",
    "print(b)\n",
    "print(type(b))\n",
    "print(int(b,2))"
   ]
  },
  {
   "cell_type": "code",
   "execution_count": 28,
   "metadata": {},
   "outputs": [
    {
     "name": "stdout",
     "output_type": "stream",
     "text": [
      "97\n",
      "d\n"
     ]
    }
   ],
   "source": [
    "# To find any Ascii Value of character\n",
    "print(ord('a'))\n",
    "\n",
    "# To find character for any Ascii Value\n",
    "print(chr(100))"
   ]
  },
  {
   "cell_type": "code",
   "execution_count": 31,
   "metadata": {},
   "outputs": [
    {
     "name": "stdout",
     "output_type": "stream",
     "text": [
      "0b10\n",
      "0b100\n",
      "0b1000\n",
      "0b10000\n"
     ]
    }
   ],
   "source": [
    "# Bitwise Shift Left Operators\n",
    "2<<3\n",
    "print(bin(2))\n",
    "print(bin(2<<1))\n",
    "print(bin(2<<2))\n",
    "print(bin(2<<3))"
   ]
  },
  {
   "cell_type": "code",
   "execution_count": 33,
   "metadata": {},
   "outputs": [
    {
     "name": "stdout",
     "output_type": "stream",
     "text": [
      "0b10\n",
      "0b1\n",
      "0b0\n",
      "0b0\n"
     ]
    }
   ],
   "source": [
    "# Bitwise Shift Right Operator\n",
    "2>>3\n",
    "print(bin(2))\n",
    "print(bin(2>>1))\n",
    "print(bin(2>>2))\n",
    "print(bin(2>>3))"
   ]
  },
  {
   "cell_type": "code",
   "execution_count": 37,
   "metadata": {},
   "outputs": [
    {
     "name": "stdout",
     "output_type": "stream",
     "text": [
      "False\n",
      "True\n"
     ]
    }
   ],
   "source": [
    "# Idenity Operator\n",
    "# is ==, is not  !=\n",
    "a =10\n",
    "b=20\n",
    "print(a is b)\n",
    "print(a is not b)"
   ]
  },
  {
   "cell_type": "code",
   "execution_count": 41,
   "metadata": {},
   "outputs": [
    {
     "name": "stdout",
     "output_type": "stream",
     "text": [
      "<class 'tuple'>\n",
      "True\n",
      "False\n",
      "False\n"
     ]
    }
   ],
   "source": [
    "# Membership operator\n",
    "# in, not in\n",
    "a = 1,2,3\n",
    "print(type(a))\n",
    "print(2 in a)\n",
    "print(5 in a)\n",
    "print(1 not in a)"
   ]
  },
  {
   "cell_type": "code",
   "execution_count": null,
   "metadata": {},
   "outputs": [],
   "source": [
    "# Control Statements\n",
    "# if else elif for while continue break"
   ]
  },
  {
   "cell_type": "code",
   "execution_count": 42,
   "metadata": {},
   "outputs": [],
   "source": [
    "# if Syntax\n",
    "# if condition:\n",
    "    # statements\n",
    "# else:\n",
    "    # statements"
   ]
  },
  {
   "cell_type": "code",
   "execution_count": 47,
   "metadata": {},
   "outputs": [
    {
     "name": "stdout",
     "output_type": "stream",
     "text": [
      "Enter a value::13\n",
      "Given 13 is odd number\n"
     ]
    }
   ],
   "source": [
    "a = int(input('Enter a value::'))\n",
    "#a = 10\n",
    "if a % 2 == 0:\n",
    "    # print(a,'Even Number')\n",
    "    print('Given {} is even number'.format(a))\n",
    "else:\n",
    "    # print(a,'Odd Number')\n",
    "    print('Given {} is odd number'.format(a))"
   ]
  },
  {
   "cell_type": "code",
   "execution_count": 50,
   "metadata": {},
   "outputs": [
    {
     "name": "stdout",
     "output_type": "stream",
     "text": [
      "Enter a value::45\n",
      "Number is divisible by 9\n"
     ]
    }
   ],
   "source": [
    "# if elif else\n",
    "a = int(input('Enter a value::'))\n",
    "if a % 7 == 0:\n",
    "    print('Number is divisible by 7')\n",
    "elif a % 9 == 0:\n",
    "     print('Number is divisible by 9')\n",
    "else:\n",
    "     print('Number is not divisible by 7 and 9')"
   ]
  },
  {
   "cell_type": "code",
   "execution_count": 52,
   "metadata": {},
   "outputs": [
    {
     "name": "stdout",
     "output_type": "stream",
     "text": [
      "Enter a value::94\n",
      "Number is not divisible by 7 and 9\n"
     ]
    }
   ],
   "source": [
    "# if else\n",
    "a = int(input('Enter a value::'))\n",
    "if a % 7 == 0 and a % 9 == 0:\n",
    "    print('Number is divisible by 7 and 9')\n",
    "else:\n",
    "     print('Number is not divisible by 7 and 9')"
   ]
  },
  {
   "cell_type": "code",
   "execution_count": 55,
   "metadata": {},
   "outputs": [
    {
     "name": "stdout",
     "output_type": "stream",
     "text": [
      "Enter a value::75\n",
      "Number is Odd\n"
     ]
    }
   ],
   "source": [
    "# if else\n",
    "a = int(input('Enter a value::'))\n",
    "if a % 2 == 0:\n",
    "    if a % 5 == 0:\n",
    "        print('Number is divisible by 5 and even number')\n",
    "    else:\n",
    "         print('Number is not divisible by 5 and even number')\n",
    "else:\n",
    "    print('Number is Odd')"
   ]
  },
  {
   "cell_type": "code",
   "execution_count": 56,
   "metadata": {},
   "outputs": [],
   "source": [
    "# Iterations - repreating set of operations for number of times based on condition\n",
    "# for and while\n",
    "\n",
    "# for var in range(initial,final, diff):\n",
    "    # statements"
   ]
  },
  {
   "cell_type": "code",
   "execution_count": 63,
   "metadata": {},
   "outputs": [
    {
     "name": "stdout",
     "output_type": "stream",
     "text": [
      "Hello\n",
      "Hello\n",
      "Hello\n",
      "Hello\n",
      "Hello\n",
      "Hello\n",
      "Hello\n",
      "Hello\n",
      "Hello\n",
      "Hello\n"
     ]
    }
   ],
   "source": [
    "# print 10 times\n",
    "for i in range(1,11,1):\n",
    "    print('Hello')"
   ]
  },
  {
   "cell_type": "code",
   "execution_count": 64,
   "metadata": {},
   "outputs": [
    {
     "name": "stdout",
     "output_type": "stream",
     "text": [
      "Hello\n",
      "Hello\n",
      "Hello\n",
      "Hello\n",
      "Hello\n",
      "Hello\n",
      "Hello\n",
      "Hello\n",
      "Hello\n",
      "Hello\n"
     ]
    }
   ],
   "source": [
    "# print 10 times\n",
    "for i in range(10):\n",
    "    print('Hello')"
   ]
  },
  {
   "cell_type": "code",
   "execution_count": 66,
   "metadata": {},
   "outputs": [
    {
     "name": "stdout",
     "output_type": "stream",
     "text": [
      "1\n",
      "2\n",
      "3\n",
      "4\n",
      "5\n",
      "6\n",
      "7\n",
      "8\n",
      "9\n",
      "10\n"
     ]
    }
   ],
   "source": [
    "# print 10\n",
    "for i in range(10):\n",
    "    print(i+1)"
   ]
  },
  {
   "cell_type": "code",
   "execution_count": 68,
   "metadata": {},
   "outputs": [
    {
     "name": "stdout",
     "output_type": "stream",
     "text": [
      "1\n",
      "2\n",
      "3\n",
      "4\n",
      "5\n",
      "6\n",
      "7\n",
      "8\n",
      "9\n",
      "10\n"
     ]
    }
   ],
   "source": [
    "# print 10\n",
    "for i in range(1,11):\n",
    "    print(i)"
   ]
  },
  {
   "cell_type": "code",
   "execution_count": 70,
   "metadata": {},
   "outputs": [
    {
     "name": "stdout",
     "output_type": "stream",
     "text": [
      "1 2 3 4 5 6 7 8 9 10 "
     ]
    }
   ],
   "source": [
    "# print 10\n",
    "for i in range(1,11):\n",
    "    print(i, end=' ')"
   ]
  },
  {
   "cell_type": "code",
   "execution_count": 73,
   "metadata": {},
   "outputs": [
    {
     "name": "stdout",
     "output_type": "stream",
     "text": [
      "1\n",
      "2\n",
      "3\n",
      "4\n",
      "5\n",
      "6\n",
      "7\n",
      "8\n",
      "9\n",
      "10\n"
     ]
    }
   ],
   "source": [
    "# print 10\n",
    "for i in range(1,11):\n",
    "    print(i, end ='\\n')"
   ]
  },
  {
   "cell_type": "code",
   "execution_count": null,
   "metadata": {},
   "outputs": [],
   "source": [
    "# print even numbers 1 to 10\n",
    "for i in range(1,11):\n",
    "    if i % 2 == 0:\n",
    "        print(i, end=' ')"
   ]
  },
  {
   "cell_type": "code",
   "execution_count": 76,
   "metadata": {},
   "outputs": [
    {
     "name": "stdout",
     "output_type": "stream",
     "text": [
      "2 4 6 8 10 "
     ]
    }
   ],
   "source": [
    "# print even numbers 1 to 10\n",
    "for i in range(2,11,2):\n",
    "    print(i, end=' ')"
   ]
  },
  {
   "cell_type": "code",
   "execution_count": 79,
   "metadata": {},
   "outputs": [
    {
     "name": "stdout",
     "output_type": "stream",
     "text": [
      "0 5 10 "
     ]
    }
   ],
   "source": [
    "# print multiples of 5\n",
    "for i in range(0,11,5):\n",
    "    print(i, end=' ')"
   ]
  },
  {
   "cell_type": "code",
   "execution_count": 94,
   "metadata": {},
   "outputs": [
    {
     "name": "stdout",
     "output_type": "stream",
     "text": [
      "Enter a number::19\n",
      "19 * 1 = 19\n",
      "19 * 2 = 38\n",
      "19 * 3 = 57\n",
      "19 * 4 = 76\n",
      "19 * 5 = 95\n",
      "19 * 6 = 114\n",
      "19 * 7 = 133\n",
      "19 * 8 = 152\n",
      "19 * 9 = 171\n",
      "19 * 10 = 190\n"
     ]
    }
   ],
   "source": [
    "# 19 table\n",
    "n = int(input('Enter a number::'))\n",
    "for i in range(1,11,1):\n",
    "    #res = n * i\n",
    "    # print(f'{n} * {i} = '+str(res))\n",
    "    print('{} * {} = {}'.format(n,i,n*i))"
   ]
  },
  {
   "cell_type": "code",
   "execution_count": 82,
   "metadata": {},
   "outputs": [],
   "source": [
    "# factors of number\n",
    "# 9 num\n",
    "# factors of 9 are 1,3,9"
   ]
  },
  {
   "cell_type": "code",
   "execution_count": 85,
   "metadata": {},
   "outputs": [],
   "source": [
    "# prime number\n",
    "# the number which is perfectly divisible by 1 and itself"
   ]
  },
  {
   "cell_type": "code",
   "execution_count": 91,
   "metadata": {},
   "outputs": [
    {
     "name": "stdout",
     "output_type": "stream",
     "text": [
      "Enter a number::100\n",
      "1 2 4 5 10 20 25 50 100 9\n"
     ]
    }
   ],
   "source": [
    "# factors of a number\n",
    "n = int(input('Enter a number::'))\n",
    "count = 0\n",
    "for i in range(1,n+1):\n",
    "    if n%i == 0:\n",
    "        count += 1\n",
    "        print(i, end = ' ')\n",
    "print(count)"
   ]
  },
  {
   "cell_type": "code",
   "execution_count": 93,
   "metadata": {},
   "outputs": [
    {
     "name": "stdout",
     "output_type": "stream",
     "text": [
      "Enter a number::18\n",
      "Not a prime number\n"
     ]
    }
   ],
   "source": [
    "# check prime number or not\n",
    "n = int(input('Enter a number::'))\n",
    "count = 0\n",
    "for i in range(1,n+1):\n",
    "    if n%i == 0:\n",
    "        count += 1\n",
    "        # print(i, end = ' ')\n",
    "if count == 2:\n",
    "    print('Prime Number')\n",
    "else:\n",
    "    print('Not a prime number')"
   ]
  },
  {
   "cell_type": "code",
   "execution_count": 103,
   "metadata": {},
   "outputs": [
    {
     "name": "stdout",
     "output_type": "stream",
     "text": [
      "Enter a year::100\n",
      "not leap year\n"
     ]
    }
   ],
   "source": [
    "# find a leap year or not\n",
    "# divisible by 400 and not divisible by 100 and divisible by 4 \n",
    "year = int(input('Enter a year::'))\n",
    "if year%400 == 0:\n",
    "    print('leap year')\n",
    "elif year%100 == 0:\n",
    "    print('not leap year')\n",
    "elif year%4 == 0:\n",
    "    print('leap year ')\n",
    "else:\n",
    "    print('not leap year')"
   ]
  },
  {
   "cell_type": "code",
   "execution_count": 102,
   "metadata": {},
   "outputs": [
    {
     "name": "stdout",
     "output_type": "stream",
     "text": [
      "Enter a year::100\n",
      "not leap year\n"
     ]
    }
   ],
   "source": [
    "year = int(input('Enter a year::'))\n",
    "if (year%400 == 0 and year%100 != 0) or (year%100 != 0 and year%4 == 0):\n",
    "    print('leap year')\n",
    "else:\n",
    "    print('not leap year')"
   ]
  },
  {
   "cell_type": "code",
   "execution_count": 104,
   "metadata": {},
   "outputs": [],
   "source": [
    "# task - print prime numbers in the range 1 to 100\n",
    "\n"
   ]
  },
  {
   "cell_type": "code",
   "execution_count": 112,
   "metadata": {},
   "outputs": [
    {
     "name": "stdout",
     "output_type": "stream",
     "text": [
      "Enter a number::28\n",
      "perfect number\n"
     ]
    }
   ],
   "source": [
    "# perfect number\n",
    "# number is euqal to sum of factors of number\n",
    "\n",
    "# find factors of a number and sum them\n",
    "n = int(input('Enter a number::'))\n",
    "sum = 0\n",
    "for i in range(1,n):\n",
    "    if n%i == 0:\n",
    "        sum +=i;\n",
    "if sum == n:\n",
    "    print('perfect number')\n",
    "else:\n",
    "    print('not perfect number')"
   ]
  },
  {
   "cell_type": "code",
   "execution_count": null,
   "metadata": {},
   "outputs": [],
   "source": [
    "# while loop\n",
    "# syntax\n",
    "# while condition:\n",
    "    # statements"
   ]
  },
  {
   "cell_type": "code",
   "execution_count": 114,
   "metadata": {},
   "outputs": [
    {
     "name": "stdout",
     "output_type": "stream",
     "text": [
      "1\n",
      "2\n",
      "3\n",
      "4\n",
      "5\n",
      "6\n",
      "7\n",
      "8\n",
      "9\n",
      "10\n"
     ]
    }
   ],
   "source": [
    "n = 1\n",
    "while n<=10:\n",
    "    print(n)\n",
    "    n += 1\n"
   ]
  },
  {
   "cell_type": "code",
   "execution_count": 115,
   "metadata": {},
   "outputs": [
    {
     "name": "stdout",
     "output_type": "stream",
     "text": [
      "10\n",
      "9\n",
      "8\n",
      "7\n",
      "6\n",
      "5\n",
      "4\n",
      "3\n",
      "2\n",
      "1\n",
      "0\n"
     ]
    }
   ],
   "source": [
    "n = 10\n",
    "while n>=0:\n",
    "    print(n)\n",
    "    n -= 1"
   ]
  },
  {
   "cell_type": "code",
   "execution_count": 119,
   "metadata": {},
   "outputs": [
    {
     "name": "stdout",
     "output_type": "stream",
     "text": [
      "10\n",
      "9\n",
      "8\n",
      "7\n",
      "6\n",
      "5\n",
      "4\n",
      "3\n",
      "2\n",
      "1\n"
     ]
    }
   ],
   "source": [
    "for i in range(10,0,-1):\n",
    "    print(i)"
   ]
  }
 ],
 "metadata": {
  "kernelspec": {
   "display_name": "Python 3",
   "language": "python",
   "name": "python3"
  },
  "language_info": {
   "codemirror_mode": {
    "name": "ipython",
    "version": 3
   },
   "file_extension": ".py",
   "mimetype": "text/x-python",
   "name": "python",
   "nbconvert_exporter": "python",
   "pygments_lexer": "ipython3",
   "version": "3.7.6"
  }
 },
 "nbformat": 4,
 "nbformat_minor": 4
}
