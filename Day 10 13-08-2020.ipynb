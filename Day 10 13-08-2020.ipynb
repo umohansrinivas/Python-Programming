{
 "cells": [
  {
   "cell_type": "code",
   "execution_count": 2,
   "metadata": {},
   "outputs": [],
   "source": [
    "import numpy as np"
   ]
  },
  {
   "cell_type": "code",
   "execution_count": 8,
   "metadata": {},
   "outputs": [
    {
     "name": "stdout",
     "output_type": "stream",
     "text": [
      "<U11\n",
      "['2' '3' '4' '8' '9' 'numpy']\n"
     ]
    }
   ],
   "source": [
    "a= np.array([2,3,4,8,9,'numpy'])\n",
    "print(a.dtype)\n",
    "print(a)"
   ]
  },
  {
   "cell_type": "code",
   "execution_count": 7,
   "metadata": {},
   "outputs": [],
   "source": [
    "b=np.array(range(1,11))"
   ]
  },
  {
   "cell_type": "code",
   "execution_count": 5,
   "metadata": {},
   "outputs": [
    {
     "name": "stdout",
     "output_type": "stream",
     "text": [
      "[1, 2, 3]\n",
      "[1 2 3]\n"
     ]
    }
   ],
   "source": [
    "l=[1,2,3]\n",
    "l1 = np.array(l)\n",
    "print(l)\n",
    "print(l1)"
   ]
  },
  {
   "cell_type": "code",
   "execution_count": 10,
   "metadata": {},
   "outputs": [
    {
     "name": "stdout",
     "output_type": "stream",
     "text": [
      "[]\n",
      "[0 1 2 3 4 5 6 7 8 9]\n"
     ]
    }
   ],
   "source": [
    "print(np.arange(1020,1.2))\n",
    "print(np.arange(10))"
   ]
  },
  {
   "cell_type": "code",
   "execution_count": 3,
   "metadata": {},
   "outputs": [
    {
     "name": "stdout",
     "output_type": "stream",
     "text": [
      "[ 10.   32.5  55.   77.5 100. ]\n"
     ]
    }
   ],
   "source": [
    "print(np.linspace(10,100,5))"
   ]
  },
  {
   "cell_type": "code",
   "execution_count": 15,
   "metadata": {},
   "outputs": [
    {
     "name": "stdout",
     "output_type": "stream",
     "text": [
      "[[0 0 0]\n",
      " [0 0 0]\n",
      " [0 0 0]]\n"
     ]
    },
    {
     "data": {
      "text/plain": [
       "(3, 3)"
      ]
     },
     "execution_count": 15,
     "metadata": {},
     "output_type": "execute_result"
    }
   ],
   "source": [
    "a = np.zeros((3,3),np.int)\n",
    "\n",
    "print(a)\n",
    "a.shape"
   ]
  },
  {
   "cell_type": "code",
   "execution_count": 16,
   "metadata": {},
   "outputs": [
    {
     "name": "stdout",
     "output_type": "stream",
     "text": [
      "[[1 1 1]\n",
      " [1 1 1]\n",
      " [1 1 1]]\n"
     ]
    },
    {
     "data": {
      "text/plain": [
       "(3, 3)"
      ]
     },
     "execution_count": 16,
     "metadata": {},
     "output_type": "execute_result"
    }
   ],
   "source": [
    "a = np.ones((3,3),np.int)\n",
    "\n",
    "print(a)\n",
    "a.shape"
   ]
  },
  {
   "cell_type": "code",
   "execution_count": 28,
   "metadata": {},
   "outputs": [
    {
     "name": "stdout",
     "output_type": "stream",
     "text": [
      "6\n"
     ]
    }
   ],
   "source": [
    "c = np.random.randint(10)\n",
    "print(c)"
   ]
  },
  {
   "cell_type": "code",
   "execution_count": 29,
   "metadata": {},
   "outputs": [
    {
     "name": "stdout",
     "output_type": "stream",
     "text": [
      "[55 60 62 98 74 20]\n",
      "1\n",
      "(6,)\n",
      "4\n"
     ]
    }
   ],
   "source": [
    "c = np.random.randint(10,100,6)\n",
    "print(c)\n",
    "print(c.ndim)\n",
    "print(c.shape)\n",
    "print(c.itemsize) # no of bits"
   ]
  },
  {
   "cell_type": "code",
   "execution_count": 30,
   "metadata": {},
   "outputs": [
    {
     "name": "stdout",
     "output_type": "stream",
     "text": [
      "[[84 94 97]\n",
      " [57 34 84]]\n",
      "2\n",
      "(2, 3)\n",
      "4\n"
     ]
    }
   ],
   "source": [
    "c = np.random.randint(10,100,(2,3))\n",
    "print(c)\n",
    "print(c.ndim)\n",
    "print(c.shape)\n",
    "print(c.itemsize) # no of bits"
   ]
  },
  {
   "cell_type": "code",
   "execution_count": 25,
   "metadata": {},
   "outputs": [
    {
     "name": "stdout",
     "output_type": "stream",
     "text": [
      "[[[44 51 49 34]\n",
      "  [82 47 20 94]\n",
      "  [28 62 83 18]]\n",
      "\n",
      " [[31 71 22 91]\n",
      "  [70 30 85 81]\n",
      "  [14 46 31 15]]]\n",
      "3\n",
      "(2, 3, 4)\n",
      "4\n"
     ]
    }
   ],
   "source": [
    "c = np.random.randint(10,100,(2,3,4))\n",
    "print(c)\n",
    "print(c.ndim)\n",
    "print(c.shape)\n",
    "print(c.itemsize) # no of bits"
   ]
  },
  {
   "cell_type": "code",
   "execution_count": 41,
   "metadata": {},
   "outputs": [
    {
     "name": "stdout",
     "output_type": "stream",
     "text": [
      "[[[7 5 6 6]\n",
      "  [6 6 6 7]\n",
      "  [7 9 8 6]]\n",
      "\n",
      " [[7 6 7 5]\n",
      "  [9 9 9 8]\n",
      "  [6 5 6 5]]]\n",
      "3\n",
      "(2, 3, 4)\n",
      "4\n"
     ]
    }
   ],
   "source": [
    "c = np.random.randint(5,10,(2,3,4))\n",
    "print(c)\n",
    "print(c.ndim)\n",
    "print(c.shape)\n",
    "print(c.itemsize) # no of bits"
   ]
  },
  {
   "cell_type": "code",
   "execution_count": 38,
   "metadata": {},
   "outputs": [
    {
     "name": "stdout",
     "output_type": "stream",
     "text": [
      "[[0.6231633  0.55359745 0.03739018]\n",
      " [0.56419445 0.77234723 0.40899425]]\n",
      "__________________________________\n",
      "[[0.52970399 0.195819   0.28883252]\n",
      " [0.94526377 0.35299865 0.9782364 ]]\n"
     ]
    }
   ],
   "source": [
    "# generates random values between 0 and 1 of specified size m1xm2x.....\n",
    "d1 = np.random.rand(2,3)\n",
    "print(d1)\n",
    "print('__________________________________')\n",
    "d2 = np.random.random((2,3))\n",
    "print(d2)"
   ]
  },
  {
   "cell_type": "code",
   "execution_count": 50,
   "metadata": {},
   "outputs": [
    {
     "name": "stdout",
     "output_type": "stream",
     "text": [
      "[ 0  1  2  3  4  5  6  7  8  9 10 11 12 13 14 15 16 17 18 19 20 21 22 23\n",
      " 24]\n",
      "[0 1 2 3]\n",
      "[ 0  1  2  3  4  5  6  7  8  9 10 11 12 13 14 15 16 17 18 19 20]\n",
      "[21 22 23 24]\n",
      "12\n",
      "[12 13 14 15 16 17 18 19 20 21 22 23 24]\n",
      "[ 0  1  2  3  4  5  6  7  8  9 10 11]\n",
      "[0 3 5]\n",
      "[1 3 5 7 9]\n"
     ]
    }
   ],
   "source": [
    "# indexing\n",
    "a = np.arange(25)\n",
    "print(a)\n",
    "print(a[:4])\n",
    "print(a[:-4])\n",
    "print(a[-4:])\n",
    "print(a[len(a)//2])\n",
    "print(a[len(a)//2:])\n",
    "print(a[:len(a)//2])\n",
    "print(a[[0,3,5]])\n",
    "print(a[1:10:2])"
   ]
  },
  {
   "cell_type": "code",
   "execution_count": 52,
   "metadata": {},
   "outputs": [
    {
     "name": "stdout",
     "output_type": "stream",
     "text": [
      "[[ 0]\n",
      " [ 1]\n",
      " [ 2]\n",
      " [ 3]\n",
      " [ 4]\n",
      " [ 5]\n",
      " [ 6]\n",
      " [ 7]\n",
      " [ 8]\n",
      " [ 9]\n",
      " [10]\n",
      " [11]\n",
      " [12]\n",
      " [13]\n",
      " [14]\n",
      " [15]\n",
      " [16]\n",
      " [17]\n",
      " [18]\n",
      " [19]\n",
      " [20]\n",
      " [21]\n",
      " [22]\n",
      " [23]\n",
      " [24]]\n",
      "[[ 0  1  2  3  4  5  6  7  8  9 10 11 12 13 14 15 16 17 18 19 20 21 22 23\n",
      "  24]]\n",
      "[[ 0  1  2  3  4]\n",
      " [ 5  6  7  8  9]\n",
      " [10 11 12 13 14]\n",
      " [15 16 17 18 19]\n",
      " [20 21 22 23 24]]\n"
     ]
    }
   ],
   "source": [
    "a1 = np.arange(25).reshape(25,1)\n",
    "print(a1)\n",
    "\n",
    "a2 = np.arange(25).reshape(1,25)\n",
    "print(a2)\n",
    "\n",
    "a3 = np.arange(25).reshape(5,5)\n",
    "print(a3)"
   ]
  },
  {
   "cell_type": "code",
   "execution_count": 71,
   "metadata": {},
   "outputs": [
    {
     "name": "stdout",
     "output_type": "stream",
     "text": [
      "[[0 1 2]\n",
      " [3 4 5]\n",
      " [6 7 8]]\n",
      "[[0 1 2]\n",
      " [3 4 5]\n",
      " [6 7 8]]\n",
      "[0 1 2]\n",
      "[3 4 5]\n",
      "[6 7 8]\n",
      "[[3 4 5]\n",
      " [6 7 8]]\n",
      "[[6 7 8]]\n",
      "[0 1 2]\n",
      "[3 4 5]\n",
      "[6 7 8]\n",
      "[[0 1 2]]\n"
     ]
    }
   ],
   "source": [
    "a4 = np.arange(9).reshape(3,3)\n",
    "print(a4)\n",
    "print(a4[:])\n",
    "print(a4[0]) # first row\n",
    "print(a4[1]) # second row\n",
    "print(a4[2]) # thrid row\n",
    "print(a4[1:]) # two and three rows\n",
    "print(a4[2:]) # only third row\n",
    "print(a4[0,]) # first row\n",
    "print(a4[1,]) # second row\n",
    "print(a4[2,]) # thrid row\n"
   ]
  },
  {
   "cell_type": "code",
   "execution_count": 74,
   "metadata": {},
   "outputs": [
    {
     "name": "stdout",
     "output_type": "stream",
     "text": [
      "[0 3 6]\n"
     ]
    }
   ],
   "source": [
    "print(a4[:,0]) # first col \n",
    "print(a4[:,1]) # second col\n",
    "print(a4[:,2]) # third col"
   ]
  },
  {
   "cell_type": "code",
   "execution_count": 76,
   "metadata": {},
   "outputs": [
    {
     "name": "stdout",
     "output_type": "stream",
     "text": [
      "[[0 1]\n",
      " [3 4]\n",
      " [6 7]]\n",
      "[[1 0]\n",
      " [4 3]\n",
      " [7 6]]\n",
      "[[2 0]\n",
      " [5 3]\n",
      " [8 6]]\n"
     ]
    }
   ],
   "source": [
    "print(a4[:,[0,1]]) # first,second col \n",
    "print(a4[:,[1,0]]) # second,first col\n",
    "print(a4[:,[2,0]]) # third, first col"
   ]
  },
  {
   "cell_type": "code",
   "execution_count": 77,
   "metadata": {},
   "outputs": [
    {
     "name": "stdout",
     "output_type": "stream",
     "text": [
      "[[0 1]]\n"
     ]
    }
   ],
   "source": [
    "print(a4[:1,[0,1]]) # first row ,and one, second col "
   ]
  },
  {
   "cell_type": "code",
   "execution_count": 78,
   "metadata": {},
   "outputs": [
    {
     "name": "stdout",
     "output_type": "stream",
     "text": [
      "[[8 7 6]\n",
      " [5 4 3]\n",
      " [2 1 0]]\n"
     ]
    }
   ],
   "source": [
    "print(a4[::-1,::-1]) # reverse\n"
   ]
  }
 ],
 "metadata": {
  "kernelspec": {
   "display_name": "Python 3",
   "language": "python",
   "name": "python3"
  },
  "language_info": {
   "codemirror_mode": {
    "name": "ipython",
    "version": 3
   },
   "file_extension": ".py",
   "mimetype": "text/x-python",
   "name": "python",
   "nbconvert_exporter": "python",
   "pygments_lexer": "ipython3",
   "version": "3.7.6"
  }
 },
 "nbformat": 4,
 "nbformat_minor": 4
}
